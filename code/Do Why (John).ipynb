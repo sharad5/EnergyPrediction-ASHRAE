{
 "cells": [
  {
   "cell_type": "code",
   "execution_count": 9,
   "id": "af59f84b",
   "metadata": {},
   "outputs": [],
   "source": [
    "import numpy as np\n",
    "import pandas as pd \n",
    "from pandas.tseries.holiday import USFederalHolidayCalendar\n",
    "\n",
    "from utils import load_data, get_train_val_split\n",
    "import dowhy"
   ]
  },
  {
   "cell_type": "markdown",
   "id": "5ed329ae",
   "metadata": {},
   "source": [
    "## Import Data"
   ]
  },
  {
   "cell_type": "code",
   "execution_count": 2,
   "id": "81c2569b",
   "metadata": {},
   "outputs": [
    {
     "name": "stdout",
     "output_type": "stream",
     "text": [
      "Memory usage of dataframe is 0.07 MB\n",
      "Memory usage after optimization is: 0.02 MB\n",
      "Decreased by 73.88%\n"
     ]
    },
    {
     "name": "stderr",
     "output_type": "stream",
     "text": [
      "C:\\Users\\johns\\Desktop\\probstats2\\EnergyPrediction-ASHRAE\\code\\utils.py:127: FutureWarning: Using .astype to convert from timezone-aware dtype to timezone-naive dtype is deprecated and will raise in a future version.  Use obj.tz_localize(None) or obj.tz_convert('UTC').tz_localize(None) instead\n",
      "  weather_train['timestamp'] = pd.to_datetime(weather_train['timestamp'], infer_datetime_format = True, utc = True).astype('datetime64[ns]')\n"
     ]
    },
    {
     "name": "stdout",
     "output_type": "stream",
     "text": [
      "Memory usage of dataframe is 9.60 MB\n",
      "Memory usage after optimization is: 3.07 MB\n",
      "Decreased by 68.05%\n",
      "Memory usage of dataframe is 19.04 MB\n",
      "Memory usage after optimization is: 5.13 MB\n",
      "Decreased by 73.04%\n"
     ]
    },
    {
     "name": "stderr",
     "output_type": "stream",
     "text": [
      "C:\\Users\\johns\\Desktop\\probstats2\\EnergyPrediction-ASHRAE\\code\\utils.py:134: FutureWarning: Using .astype to convert from timezone-aware dtype to timezone-naive dtype is deprecated and will raise in a future version.  Use obj.tz_localize(None) or obj.tz_convert('UTC').tz_localize(None) instead\n",
      "  train['timestamp'] = pd.to_datetime(train['timestamp'], infer_datetime_format = True, utc = True).astype('datetime64[ns]')\n"
     ]
    },
    {
     "name": "stdout",
     "output_type": "stream",
     "text": [
      "Memory usage of dataframe is 616.95 MB\n",
      "Memory usage after optimization is: 289.19 MB\n",
      "Decreased by 53.12%\n",
      "Memory usage of dataframe is 1272.51 MB\n",
      "Memory usage after optimization is: 358.53 MB\n",
      "Decreased by 71.82%\n"
     ]
    },
    {
     "name": "stderr",
     "output_type": "stream",
     "text": [
      "C:\\Users\\johns\\Desktop\\probstats2\\EnergyPrediction-ASHRAE\\code\\utils.py:149: SettingWithCopyWarning: \n",
      "A value is trying to be set on a copy of a slice from a DataFrame.\n",
      "Try using .loc[row_indexer,col_indexer] = value instead\n",
      "\n",
      "See the caveats in the documentation: https://pandas.pydata.org/pandas-docs/stable/user_guide/indexing.html#returning-a-view-versus-a-copy\n",
      "  train[(train['site_id'] == 0) & (train['meter'] == 0)]['meter_reading'] = 0.2931 * train[(train['site_id'] == 0) & (train['meter'] == 0)]['meter_reading']\n"
     ]
    }
   ],
   "source": [
    "data_dict = load_data('ashrae-energy-prediction')"
   ]
  },
  {
   "cell_type": "code",
   "execution_count": 3,
   "id": "4aea63a0",
   "metadata": {},
   "outputs": [],
   "source": [
    "# Add weather features \n",
    "weather_features = ['cloud_coverage', 'dew_temperature', 'air_temperature', \n",
    "                    'sea_level_pressure', 'wind_direction', 'wind_speed', 'precip_depth_1_hr',]\n",
    "\n",
    "hourly_by_site = data_dict[\"X_train\"].groupby(['hour', 'month', 'site_id'])[weather_features].mean().reset_index()\n",
    "\n",
    "data_dict[\"X_train\"] = data_dict[\"X_train\"].merge(\n",
    "    hourly_by_site, \n",
    "    on=['hour', 'month', 'site_id'], \n",
    "    how='left', \n",
    "    suffixes=(None, '_hourly_by_site')\n",
    ")\n",
    "\n",
    "del hourly_by_site\n",
    "\n",
    "for feature in weather_features:\n",
    "    # Fill in NA values from weather with hourly by site columns \n",
    "    data_dict[\"X_train\"][feature].fillna(\n",
    "        data_dict[\"X_train\"][feature + \"_hourly_by_site\"],\n",
    "        inplace=True\n",
    "    )\n",
    "    \n",
    "    # Fill in the rest with the median \n",
    "    data_dict[\"X_train\"][feature].fillna(\n",
    "        data_dict[\"X_train\"][feature].median(),\n",
    "        inplace=True\n",
    "    )\n",
    "    \n",
    "    data_dict[\"X_train\"][feature + \"_diff_hourly_from_mean\"] = data_dict[\"X_train\"][feature] - \\\n",
    "        data_dict[\"X_train\"][feature + \"_hourly_by_site\"]\n",
    "    \n",
    "data_dict[\"X_train\"] = data_dict[\"X_train\"].drop(columns = [feat + \"_hourly_by_site\" for feat in weather_features])"
   ]
  },
  {
   "cell_type": "code",
   "execution_count": 4,
   "id": "a1ad44fd",
   "metadata": {},
   "outputs": [],
   "source": [
    "# Fill in NA with median values for floor count and year_built\n",
    "for feature in ['year_built', 'floor_count']:\n",
    "    data_dict[\"X_train\"][feature].fillna(\n",
    "        data_dict[\"X_train\"][feature].median(), \n",
    "        inplace=True\n",
    "    )"
   ]
  },
  {
   "cell_type": "code",
   "execution_count": 5,
   "id": "e4b4c8b2",
   "metadata": {},
   "outputs": [],
   "source": [
    "# Create binary attribute for holidays\n",
    "calendar = USFederalHolidayCalendar()\n",
    "holidays = calendar.holidays(\n",
    "    start=data_dict[\"X_train\"]['timestamp'].min(),\n",
    "    end=data_dict[\"X_train\"]['timestamp'].max()\n",
    ")\n",
    "data_dict[\"X_train\"][\"is_holiday\"] = data_dict[\"X_train\"]['timestamp'].isin(holidays)"
   ]
  },
  {
   "cell_type": "code",
   "execution_count": 15,
   "id": "a5175ebb",
   "metadata": {},
   "outputs": [
    {
     "data": {
      "text/plain": [
       "array([ 1,  2,  3,  4,  5,  6,  7,  8,  9, 10, 11, 12, 13, 14, 15,  0],\n",
       "      dtype=int8)"
      ]
     },
     "execution_count": 15,
     "metadata": {},
     "output_type": "execute_result"
    }
   ],
   "source": [
    "data_dict[\"X_train\"][\"site_id\"].unique()"
   ]
  },
  {
   "cell_type": "markdown",
   "id": "cdd57bc9",
   "metadata": {},
   "source": [
    "## Create Causal Model"
   ]
  },
  {
   "cell_type": "code",
   "execution_count": null,
   "id": "c7cbb094",
   "metadata": {},
   "outputs": [],
   "source": [
    "causal_graph = \"\"\"digraph {\n",
    "treatment[label=\"Program Signup in month i\"];\n",
    "pre_spends;\n",
    "post_spends;\n",
    "Z->treatment;\n",
    "pre_spends -> treatment;\n",
    "treatment->post_spends;\n",
    "signup_month->post_spends;\n",
    "signup_month->treatment;\n",
    "}\"\"\""
   ]
  },
  {
   "cell_type": "code",
   "execution_count": 6,
   "id": "837fc179",
   "metadata": {},
   "outputs": [],
   "source": [
    "model = dowhy.CausalModel(\n",
    "    data=data_dict[\"X_train\"],\n",
    "    outcome=data[\"y_train\"],\n",
    "    \n",
    ")"
   ]
  },
  {
   "cell_type": "code",
   "execution_count": null,
   "id": "6493ff90",
   "metadata": {},
   "outputs": [],
   "source": []
  }
 ],
 "metadata": {
  "kernelspec": {
   "display_name": "Python 3 (ipykernel)",
   "language": "python",
   "name": "python3"
  },
  "language_info": {
   "codemirror_mode": {
    "name": "ipython",
    "version": 3
   },
   "file_extension": ".py",
   "mimetype": "text/x-python",
   "name": "python",
   "nbconvert_exporter": "python",
   "pygments_lexer": "ipython3",
   "version": "3.10.9"
  }
 },
 "nbformat": 4,
 "nbformat_minor": 5
}
