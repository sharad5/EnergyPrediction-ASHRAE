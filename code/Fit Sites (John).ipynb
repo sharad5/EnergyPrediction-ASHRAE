{
 "cells": [
  {
   "cell_type": "code",
   "execution_count": 13,
   "id": "af59f84b",
   "metadata": {},
   "outputs": [],
   "source": [
    "import numpy as np\n",
    "import pandas as pd \n",
    "import os\n",
    "from pandas.tseries.holiday import USFederalHolidayCalendar\n",
    "\n",
    "import utils\n",
    "# from utils import load_data, get_train_val_split, get_stratified_splitter\n",
    "from sklearn.model_selection import StratifiedShuffleSplit, StratifiedGroupKFold, train_test_split, TimeSeriesSplit\n",
    "from sklearn.metrics import mean_squared_error\n",
    "\n",
    "from lightgbm import LGBMRegressor\n",
    "from scipy.stats import kstest, kruskal, mannwhitneyu\n",
    "from itertools import combinations\n",
    "from collections import defaultdict\n",
    "\n",
    "import optuna"
   ]
  },
  {
   "cell_type": "code",
   "execution_count": 16,
   "id": "3f663bf4",
   "metadata": {},
   "outputs": [
    {
     "data": {
      "text/plain": [
       "<module 'utils' from '/Users/sharaddargan/Documents/Course Content/Spring 2023/Probability and Statistics 2/Project/EnergyPrediction-ASHRAE/code/utils.py'>"
      ]
     },
     "execution_count": 16,
     "metadata": {},
     "output_type": "execute_result"
    }
   ],
   "source": [
    "import importlib\n",
    "importlib.reload(utils)"
   ]
  },
  {
   "cell_type": "code",
   "execution_count": 2,
   "id": "81c2569b",
   "metadata": {},
   "outputs": [
    {
     "name": "stdout",
     "output_type": "stream",
     "text": [
      "Memory usage of dataframe is 0.07 MB\n",
      "Memory usage after optimization is: 0.02 MB\n",
      "Decreased by 73.88%\n",
      "Memory usage of dataframe is 9.60 MB\n",
      "Memory usage after optimization is: 3.07 MB\n",
      "Decreased by 68.05%\n"
     ]
    },
    {
     "name": "stderr",
     "output_type": "stream",
     "text": [
      "/Users/sharaddargan/Documents/Course Content/Spring 2023/Probability and Statistics 2/Project/EnergyPrediction-ASHRAE/code/utils.py:143: FutureWarning: Using .astype to convert from timezone-aware dtype to timezone-naive dtype is deprecated and will raise in a future version.  Use obj.tz_localize(None) or obj.tz_convert('UTC').tz_localize(None) instead\n",
      "  weather_train['timestamp'] = pd.to_datetime(weather_train['timestamp'], infer_datetime_format = True, utc = True).astype('datetime64[ns]')\n"
     ]
    },
    {
     "name": "stdout",
     "output_type": "stream",
     "text": [
      "Memory usage of dataframe is 19.04 MB\n",
      "Memory usage after optimization is: 5.13 MB\n",
      "Decreased by 73.04%\n"
     ]
    },
    {
     "name": "stderr",
     "output_type": "stream",
     "text": [
      "/Users/sharaddargan/Documents/Course Content/Spring 2023/Probability and Statistics 2/Project/EnergyPrediction-ASHRAE/code/utils.py:151: FutureWarning: Using .astype to convert from timezone-aware dtype to timezone-naive dtype is deprecated and will raise in a future version.  Use obj.tz_localize(None) or obj.tz_convert('UTC').tz_localize(None) instead\n",
      "  train['timestamp'] = pd.to_datetime(train['timestamp'], infer_datetime_format = True, utc = True).astype('datetime64[ns]')\n"
     ]
    },
    {
     "name": "stdout",
     "output_type": "stream",
     "text": [
      "Memory usage of dataframe is 616.95 MB\n",
      "Memory usage after optimization is: 289.19 MB\n",
      "Decreased by 53.12%\n",
      "Memory usage of dataframe is 1272.51 MB\n",
      "Memory usage after optimization is: 358.53 MB\n",
      "Decreased by 71.82%\n"
     ]
    },
    {
     "name": "stderr",
     "output_type": "stream",
     "text": [
      "/Users/sharaddargan/Documents/Course Content/Spring 2023/Probability and Statistics 2/Project/EnergyPrediction-ASHRAE/code/utils.py:166: SettingWithCopyWarning: \n",
      "A value is trying to be set on a copy of a slice from a DataFrame.\n",
      "Try using .loc[row_indexer,col_indexer] = value instead\n",
      "\n",
      "See the caveats in the documentation: https://pandas.pydata.org/pandas-docs/stable/user_guide/indexing.html#returning-a-view-versus-a-copy\n",
      "  train[(train['site_id'] == 0) & (train['meter'] == 0)]['meter_reading'] = 0.2931 * train[(train['site_id'] == 0) & (train['meter'] == 0)]['meter_reading']\n"
     ]
    }
   ],
   "source": [
    "data_dict = utils.load_data('ashrae-energy-prediction')"
   ]
  },
  {
   "cell_type": "code",
   "execution_count": 3,
   "id": "4aea63a0",
   "metadata": {},
   "outputs": [],
   "source": [
    "# Add weather features \n",
    "weather_features = ['cloud_coverage', 'dew_temperature', 'air_temperature', \n",
    "                    'sea_level_pressure', 'wind_direction', 'wind_speed', 'precip_depth_1_hr',]\n",
    "\n",
    "hourly_by_site = data_dict[\"X_train\"].groupby(['hour', 'month', 'site_id'])[weather_features].mean().reset_index()\n",
    "\n",
    "data_dict[\"X_train\"] = data_dict[\"X_train\"].merge(\n",
    "    hourly_by_site, \n",
    "    on=['hour', 'month', 'site_id'], \n",
    "    how='left', \n",
    "    suffixes=(None, '_hourly_by_site')\n",
    ")\n",
    "\n",
    "del hourly_by_site\n",
    "\n",
    "for feature in weather_features:\n",
    "    # Fill in NA values from weather with hourly by site columns \n",
    "    data_dict[\"X_train\"][feature].fillna(\n",
    "        data_dict[\"X_train\"][feature + \"_hourly_by_site\"],\n",
    "        inplace=True\n",
    "    )\n",
    "    \n",
    "    # Fill in the rest with the median \n",
    "    data_dict[\"X_train\"][feature].fillna(\n",
    "        data_dict[\"X_train\"][feature].median(),\n",
    "        inplace=True\n",
    "    )\n",
    "    \n",
    "    data_dict[\"X_train\"][feature + \"_diff_hourly_from_mean\"] = data_dict[\"X_train\"][feature] - \\\n",
    "        data_dict[\"X_train\"][feature + \"_hourly_by_site\"]\n",
    "    \n",
    "data_dict[\"X_train\"] = data_dict[\"X_train\"].drop(columns = [feat + \"_hourly_by_site\" for feat in weather_features])"
   ]
  },
  {
   "cell_type": "code",
   "execution_count": 4,
   "id": "a1ad44fd",
   "metadata": {},
   "outputs": [],
   "source": [
    "# Fill in NA with median values for floor count and year_built\n",
    "for feature in ['year_built', 'floor_count']:\n",
    "    data_dict[\"X_train\"][feature].fillna(\n",
    "        data_dict[\"X_train\"][feature].median(), \n",
    "        inplace=True\n",
    "    )"
   ]
  },
  {
   "cell_type": "code",
   "execution_count": 5,
   "id": "557c72c9",
   "metadata": {},
   "outputs": [
    {
     "data": {
      "text/plain": [
       "dict_keys(['weather_test', 'X_train', 'X_test', 'y_train'])"
      ]
     },
     "execution_count": 5,
     "metadata": {},
     "output_type": "execute_result"
    }
   ],
   "source": [
    "data_dict.keys()"
   ]
  },
  {
   "cell_type": "markdown",
   "id": "865a4187",
   "metadata": {},
   "source": [
    "## Examine Differences (Non-Parametric)\n",
    "Using Bonferonni's Correction"
   ]
  },
  {
   "cell_type": "markdown",
   "id": "92d409d8",
   "metadata": {},
   "source": [
    "### Milestone 2. \n",
    "- Show difference in sites across meter readings \n",
    "- get average meter reading per day per site \n",
    "- conduct a (non-parametric ANOVA) KS OR pairs (mann-whitney) to show that they are diff \n",
    "- train a model per site id (with rudimentary hyperparameter tuning) \n",
    "- John sites 0-7, Sharad sites 8-15 \n",
    "\n",
    "### Milestone 3. Determine, per site, which primary uses are similar (if they have only a few buildings), which are diff\n",
    "- for a given primary use, if diff, identify \"clusters\" of buildings that are similar "
   ]
  },
  {
   "cell_type": "code",
   "execution_count": 9,
   "id": "86eb2613",
   "metadata": {},
   "outputs": [],
   "source": [
    "features = ['year_built', 'floor_count', 'air_temperature',\n",
    "       'cloud_coverage', 'dew_temperature', 'precip_depth_1_hr',\n",
    "       'sea_level_pressure', 'wind_direction', 'wind_speed',\n",
    "       'air_temperature_mean_lag7', 'air_temperature_max_lag7',\n",
    "       'air_temperature_min_lag7', 'air_temperature_std_lag7',\n",
    "       'cloud_coverage_mean_lag7', 'cloud_coverage_max_lag7',\n",
    "       'cloud_coverage_min_lag7', 'cloud_coverage_std_lag7',\n",
    "       'dew_temperature_mean_lag7', 'dew_temperature_max_lag7',\n",
    "       'dew_temperature_min_lag7', 'dew_temperature_std_lag7',\n",
    "       'precip_depth_1_hr_mean_lag7', 'precip_depth_1_hr_max_lag7',\n",
    "       'precip_depth_1_hr_min_lag7', 'precip_depth_1_hr_std_lag7',\n",
    "       'sea_level_pressure_mean_lag7', 'sea_level_pressure_max_lag7',\n",
    "       'sea_level_pressure_min_lag7', 'sea_level_pressure_std_lag7',\n",
    "       'wind_direction_mean_lag7', 'wind_direction_max_lag7',\n",
    "       'wind_direction_min_lag7', 'wind_direction_std_lag7',\n",
    "       'wind_speed_mean_lag7', 'wind_speed_max_lag7', 'wind_speed_min_lag7',\n",
    "       'wind_speed_std_lag7', 'log_square_feet', 'weekday', 'hour', 'day',\n",
    "       'weekend', 'month', 'primary_use_enc']"
   ]
  },
  {
   "cell_type": "code",
   "execution_count": 22,
   "id": "0aff449b",
   "metadata": {},
   "outputs": [],
   "source": [
    "def run_optuna_search_cv(site, meter, n_trials, X_train, y_train, features):\n",
    "    \"\"\"\n",
    "    Runs Optuna Search for LGBMRegressor\n",
    "    \"\"\"\n",
    "    SITE_FILTER = X_train[\"site_id\"] == site\n",
    "    METER_FILTER = X_train[\"meter\"] == meter\n",
    "\n",
    "    splitter_gen = utils.get_stratified_splitter(X_train[SITE_FILTER&METER_FILTER], y_train[SITE_FILTER&METER_FILTER])\n",
    "\n",
    "    X, y = X_train.loc[SITE_FILTER&METER_FILTER, features], y_train[SITE_FILTER&METER_FILTER]\n",
    "\n",
    "    regressor = LGBMRegressor()\n",
    "\n",
    "    param_distributions = {\n",
    "        \"max_depth\": optuna.distributions.IntDistribution(-1, len(data_dict['X_train'].columns)),\n",
    "        \"num_leaves\": optuna.distributions.IntDistribution(1, 50),\n",
    "        \"learning_rate\": optuna.distributions.FloatDistribution(1e-7, 1, log=True),\n",
    "        \"n_estimators\": optuna.distributions.IntDistribution(1, 200),\n",
    "        \"reg_alpha\": optuna.distributions.FloatDistribution(1e-7, 1e7, log=True),\n",
    "        \"reg_lambda\": optuna.distributions.FloatDistribution(1e-7, 1e7, log=True),            \n",
    "    }\n",
    "\n",
    "    \"\"\"\n",
    "    Parameters not searched over: \n",
    "    subsample_for_bin: int = 200000,\n",
    "    min_split_gain: float = 0.0,\n",
    "    min_child_weight: float = 0.001,\n",
    "    min_child_samples: int = 20,\n",
    "    subsample: float = 1.0,\n",
    "    subsample_freq: int = 0,\n",
    "    colsample_bytree: float = 1.0,\n",
    "    random_state: Union[int, numpy.random.mtrand.RandomState, NoneType] = None,\n",
    "    n_jobs: int = -1,\n",
    "    \"\"\"\n",
    "    optuna_search = optuna.integration.OptunaSearchCV(\n",
    "        regressor, \n",
    "        param_distributions,\n",
    "        n_trials=n_trials,\n",
    "        cv = splitter_gen,\n",
    "        refit=True\n",
    "    )\n",
    "\n",
    "    optuna_search.fit(X, y)\n",
    "    y_pred = optuna_search.predict(X)\n",
    "    \n",
    "    return optuna_search"
   ]
  },
  {
   "cell_type": "code",
   "execution_count": 21,
   "id": "05d19bae",
   "metadata": {},
   "outputs": [
    {
     "name": "stderr",
     "output_type": "stream",
     "text": [
      "/var/folders/6v/12r4qnjx54zgmfy66mv7j0rr0000gn/T/ipykernel_8044/3258861308.py:32: ExperimentalWarning: OptunaSearchCV is experimental (supported from v0.17.0). The interface can change in the future.\n",
      "  optuna_search = optuna.integration.OptunaSearchCV(\n",
      "/opt/homebrew/Caskroom/miniforge/base/envs/conda-env/lib/python3.10/site-packages/sklearn/model_selection/_split.py:909: UserWarning: The least populated class in y has only 1 members, which is less than n_splits=4.\n",
      "  warnings.warn(\n",
      "\u001b[32m[I 2023-04-08 19:12:06,726]\u001b[0m A new study created in memory with name: no-name-7e1cd0a1-56cc-4936-a8e8-131d56dfb798\u001b[0m\n",
      "\u001b[32m[I 2023-04-08 19:12:15,640]\u001b[0m Trial 0 finished with value: 0.3922760511228832 and parameters: {'max_depth': 13, 'num_leaves': 16, 'learning_rate': 0.006878477352391333, 'n_estimators': 162, 'reg_alpha': 79.98733204704385, 'reg_lambda': 4.7166620000988424e-05}. Best is trial 0 with value: 0.3922760511228832.\u001b[0m\n",
      "\u001b[32m[I 2023-04-08 19:12:23,550]\u001b[0m Trial 1 finished with value: -0.003998573692341689 and parameters: {'max_depth': 50, 'num_leaves': 45, 'learning_rate': 1.526685020184478e-07, 'n_estimators': 169, 'reg_alpha': 10132.314574644404, 'reg_lambda': 0.00027350368595068257}. Best is trial 0 with value: 0.3922760511228832.\u001b[0m\n",
      "\u001b[32m[I 2023-04-08 19:12:26,810]\u001b[0m Trial 2 finished with value: -0.0037223060440877975 and parameters: {'max_depth': 46, 'num_leaves': 33, 'learning_rate': 1.1731437837239148e-05, 'n_estimators': 64, 'reg_alpha': 5.617869036904983e-05, 'reg_lambda': 120522.92889059763}. Best is trial 0 with value: 0.3922760511228832.\u001b[0m\n",
      "\u001b[32m[I 2023-04-08 19:12:29,478]\u001b[0m Trial 3 finished with value: -0.0040193116174828125 and parameters: {'max_depth': 23, 'num_leaves': 49, 'learning_rate': 0.013202488486035927, 'n_estimators': 117, 'reg_alpha': 8948414.85814926, 'reg_lambda': 2.6369431949783685e-05}. Best is trial 0 with value: 0.3922760511228832.\u001b[0m\n",
      "\u001b[32m[I 2023-04-08 19:12:33,246]\u001b[0m Trial 4 finished with value: 0.00413988754718278 and parameters: {'max_depth': 30, 'num_leaves': 14, 'learning_rate': 0.0032080611355407734, 'n_estimators': 111, 'reg_alpha': 0.001112980409860992, 'reg_lambda': 5590370.015469135}. Best is trial 0 with value: 0.3922760511228832.\u001b[0m\n"
     ]
    },
    {
     "data": {
      "text/html": [
       "<style>#sk-container-id-1 {color: black;background-color: white;}#sk-container-id-1 pre{padding: 0;}#sk-container-id-1 div.sk-toggleable {background-color: white;}#sk-container-id-1 label.sk-toggleable__label {cursor: pointer;display: block;width: 100%;margin-bottom: 0;padding: 0.3em;box-sizing: border-box;text-align: center;}#sk-container-id-1 label.sk-toggleable__label-arrow:before {content: \"▸\";float: left;margin-right: 0.25em;color: #696969;}#sk-container-id-1 label.sk-toggleable__label-arrow:hover:before {color: black;}#sk-container-id-1 div.sk-estimator:hover label.sk-toggleable__label-arrow:before {color: black;}#sk-container-id-1 div.sk-toggleable__content {max-height: 0;max-width: 0;overflow: hidden;text-align: left;background-color: #f0f8ff;}#sk-container-id-1 div.sk-toggleable__content pre {margin: 0.2em;color: black;border-radius: 0.25em;background-color: #f0f8ff;}#sk-container-id-1 input.sk-toggleable__control:checked~div.sk-toggleable__content {max-height: 200px;max-width: 100%;overflow: auto;}#sk-container-id-1 input.sk-toggleable__control:checked~label.sk-toggleable__label-arrow:before {content: \"▾\";}#sk-container-id-1 div.sk-estimator input.sk-toggleable__control:checked~label.sk-toggleable__label {background-color: #d4ebff;}#sk-container-id-1 div.sk-label input.sk-toggleable__control:checked~label.sk-toggleable__label {background-color: #d4ebff;}#sk-container-id-1 input.sk-hidden--visually {border: 0;clip: rect(1px 1px 1px 1px);clip: rect(1px, 1px, 1px, 1px);height: 1px;margin: -1px;overflow: hidden;padding: 0;position: absolute;width: 1px;}#sk-container-id-1 div.sk-estimator {font-family: monospace;background-color: #f0f8ff;border: 1px dotted black;border-radius: 0.25em;box-sizing: border-box;margin-bottom: 0.5em;}#sk-container-id-1 div.sk-estimator:hover {background-color: #d4ebff;}#sk-container-id-1 div.sk-parallel-item::after {content: \"\";width: 100%;border-bottom: 1px solid gray;flex-grow: 1;}#sk-container-id-1 div.sk-label:hover label.sk-toggleable__label {background-color: #d4ebff;}#sk-container-id-1 div.sk-serial::before {content: \"\";position: absolute;border-left: 1px solid gray;box-sizing: border-box;top: 0;bottom: 0;left: 50%;z-index: 0;}#sk-container-id-1 div.sk-serial {display: flex;flex-direction: column;align-items: center;background-color: white;padding-right: 0.2em;padding-left: 0.2em;position: relative;}#sk-container-id-1 div.sk-item {position: relative;z-index: 1;}#sk-container-id-1 div.sk-parallel {display: flex;align-items: stretch;justify-content: center;background-color: white;position: relative;}#sk-container-id-1 div.sk-item::before, #sk-container-id-1 div.sk-parallel-item::before {content: \"\";position: absolute;border-left: 1px solid gray;box-sizing: border-box;top: 0;bottom: 0;left: 50%;z-index: -1;}#sk-container-id-1 div.sk-parallel-item {display: flex;flex-direction: column;z-index: 1;position: relative;background-color: white;}#sk-container-id-1 div.sk-parallel-item:first-child::after {align-self: flex-end;width: 50%;}#sk-container-id-1 div.sk-parallel-item:last-child::after {align-self: flex-start;width: 50%;}#sk-container-id-1 div.sk-parallel-item:only-child::after {width: 0;}#sk-container-id-1 div.sk-dashed-wrapped {border: 1px dashed gray;margin: 0 0.4em 0.5em 0.4em;box-sizing: border-box;padding-bottom: 0.4em;background-color: white;}#sk-container-id-1 div.sk-label label {font-family: monospace;font-weight: bold;display: inline-block;line-height: 1.2em;}#sk-container-id-1 div.sk-label-container {text-align: center;}#sk-container-id-1 div.sk-container {/* jupyter's `normalize.less` sets `[hidden] { display: none; }` but bootstrap.min.css set `[hidden] { display: none !important; }` so we also need the `!important` here to be able to override the default hidden behavior on the sphinx rendered scikit-learn.org. See: https://github.com/scikit-learn/scikit-learn/issues/21755 */display: inline-block !important;position: relative;}#sk-container-id-1 div.sk-text-repr-fallback {display: none;}</style><div id=\"sk-container-id-1\" class=\"sk-top-container\"><div class=\"sk-text-repr-fallback\"><pre>OptunaSearchCV(cv=&lt;generator object _BaseKFold.split at 0x160973990&gt;,\n",
       "               estimator=LGBMRegressor(), n_trials=5,\n",
       "               param_distributions={&#x27;learning_rate&#x27;: FloatDistribution(high=1.0, log=True, low=1e-07, step=None),\n",
       "                                    &#x27;max_depth&#x27;: IntDistribution(high=57, log=False, low=-1, step=1),\n",
       "                                    &#x27;n_estimators&#x27;: IntDistribution(high=200, log=False, low=1, step=1),\n",
       "                                    &#x27;num_leaves&#x27;: IntDistribution(high=50, log=False, low=1, step=1),\n",
       "                                    &#x27;reg_alpha&#x27;: FloatDistribution(high=10000000.0, log=True, low=1e-07, step=None),\n",
       "                                    &#x27;reg_lambda&#x27;: FloatDistribution(high=10000000.0, log=True, low=1e-07, step=None)})</pre><b>In a Jupyter environment, please rerun this cell to show the HTML representation or trust the notebook. <br />On GitHub, the HTML representation is unable to render, please try loading this page with nbviewer.org.</b></div><div class=\"sk-container\" hidden><div class=\"sk-item sk-dashed-wrapped\"><div class=\"sk-label-container\"><div class=\"sk-label sk-toggleable\"><input class=\"sk-toggleable__control sk-hidden--visually\" id=\"sk-estimator-id-1\" type=\"checkbox\" ><label for=\"sk-estimator-id-1\" class=\"sk-toggleable__label sk-toggleable__label-arrow\">OptunaSearchCV</label><div class=\"sk-toggleable__content\"><pre>OptunaSearchCV(cv=&lt;generator object _BaseKFold.split at 0x160973990&gt;,\n",
       "               estimator=LGBMRegressor(), n_trials=5,\n",
       "               param_distributions={&#x27;learning_rate&#x27;: FloatDistribution(high=1.0, log=True, low=1e-07, step=None),\n",
       "                                    &#x27;max_depth&#x27;: IntDistribution(high=57, log=False, low=-1, step=1),\n",
       "                                    &#x27;n_estimators&#x27;: IntDistribution(high=200, log=False, low=1, step=1),\n",
       "                                    &#x27;num_leaves&#x27;: IntDistribution(high=50, log=False, low=1, step=1),\n",
       "                                    &#x27;reg_alpha&#x27;: FloatDistribution(high=10000000.0, log=True, low=1e-07, step=None),\n",
       "                                    &#x27;reg_lambda&#x27;: FloatDistribution(high=10000000.0, log=True, low=1e-07, step=None)})</pre></div></div></div><div class=\"sk-parallel\"><div class=\"sk-parallel-item\"><div class=\"sk-item\"><div class=\"sk-label-container\"><div class=\"sk-label sk-toggleable\"><input class=\"sk-toggleable__control sk-hidden--visually\" id=\"sk-estimator-id-2\" type=\"checkbox\" ><label for=\"sk-estimator-id-2\" class=\"sk-toggleable__label sk-toggleable__label-arrow\">estimator: LGBMRegressor</label><div class=\"sk-toggleable__content\"><pre>LGBMRegressor()</pre></div></div></div><div class=\"sk-serial\"><div class=\"sk-item\"><div class=\"sk-estimator sk-toggleable\"><input class=\"sk-toggleable__control sk-hidden--visually\" id=\"sk-estimator-id-3\" type=\"checkbox\" ><label for=\"sk-estimator-id-3\" class=\"sk-toggleable__label sk-toggleable__label-arrow\">LGBMRegressor</label><div class=\"sk-toggleable__content\"><pre>LGBMRegressor()</pre></div></div></div></div></div></div></div></div></div></div>"
      ],
      "text/plain": [
       "OptunaSearchCV(cv=<generator object _BaseKFold.split at 0x160973990>,\n",
       "               estimator=LGBMRegressor(), n_trials=5,\n",
       "               param_distributions={'learning_rate': FloatDistribution(high=1.0, log=True, low=1e-07, step=None),\n",
       "                                    'max_depth': IntDistribution(high=57, log=False, low=-1, step=1),\n",
       "                                    'n_estimators': IntDistribution(high=200, log=False, low=1, step=1),\n",
       "                                    'num_leaves': IntDistribution(high=50, log=False, low=1, step=1),\n",
       "                                    'reg_alpha': FloatDistribution(high=10000000.0, log=True, low=1e-07, step=None),\n",
       "                                    'reg_lambda': FloatDistribution(high=10000000.0, log=True, low=1e-07, step=None)})"
      ]
     },
     "execution_count": 21,
     "metadata": {},
     "output_type": "execute_result"
    }
   ],
   "source": [
    "run_optuna_search_cv(0, 0, 5, data_dict[\"X_train\"], data_dict[\"y_train\"], features)"
   ]
  },
  {
   "cell_type": "code",
   "execution_count": null,
   "id": "d303350d",
   "metadata": {},
   "outputs": [],
   "source": [
    "# This fits sites 0-7\n",
    "N_TRIALS = 100\n",
    "models = defaultdict(dict)\n",
    "\n",
    "for site in range(8):\n",
    "    for meter in range(4):\n",
    "        \n",
    "        optuna_search = run_optuna_search_cv(site, meter, N_trials, data_dict[\"X_train\"], data_dict[\"y_train\"], features)\n",
    "        \n",
    "        model_identifier = \"_\".join([str(site), str(meter)])\n",
    "        models[model_identifier] = optuna_search"
   ]
  },
  {
   "cell_type": "code",
   "execution_count": null,
   "id": "d4613bc7",
   "metadata": {},
   "outputs": [],
   "source": []
  }
 ],
 "metadata": {
  "kernelspec": {
   "display_name": "Python [conda env:conda-env] *",
   "language": "python",
   "name": "conda-env-conda-env-py"
  },
  "language_info": {
   "codemirror_mode": {
    "name": "ipython",
    "version": 3
   },
   "file_extension": ".py",
   "mimetype": "text/x-python",
   "name": "python",
   "nbconvert_exporter": "python",
   "pygments_lexer": "ipython3",
   "version": "3.10.5"
  }
 },
 "nbformat": 4,
 "nbformat_minor": 5
}
