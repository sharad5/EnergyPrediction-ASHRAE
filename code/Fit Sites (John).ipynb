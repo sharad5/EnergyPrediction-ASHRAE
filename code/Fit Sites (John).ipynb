{
 "cells": [
  {
   "cell_type": "code",
   "execution_count": 1,
   "id": "af59f84b",
   "metadata": {},
   "outputs": [],
   "source": [
    "import numpy as np\n",
    "import pandas as pd \n",
    "import os\n",
    "from pandas.tseries.holiday import USFederalHolidayCalendar\n",
    "\n",
    "import utils\n",
    "# from utils import load_data, get_train_val_split, get_stratified_splitter\n",
    "from sklearn.model_selection import StratifiedShuffleSplit, StratifiedGroupKFold, train_test_split, TimeSeriesSplit\n",
    "from sklearn.metrics import mean_squared_error, make_scorer\n",
    "\n",
    "from lightgbm import LGBMRegressor\n",
    "from scipy.stats import kstest, kruskal, mannwhitneyu\n",
    "from itertools import combinations\n",
    "from collections import defaultdict\n",
    "\n",
    "import optuna"
   ]
  },
  {
   "cell_type": "code",
   "execution_count": 2,
   "id": "3f663bf4",
   "metadata": {},
   "outputs": [
    {
     "data": {
      "text/plain": [
       "<module 'utils' from 'C:\\\\Users\\\\johns\\\\Desktop\\\\probstats2\\\\EnergyPrediction-ASHRAE\\\\code\\\\utils.py'>"
      ]
     },
     "execution_count": 2,
     "metadata": {},
     "output_type": "execute_result"
    }
   ],
   "source": [
    "import importlib\n",
    "importlib.reload(utils)"
   ]
  },
  {
   "cell_type": "code",
   "execution_count": 3,
   "id": "81c2569b",
   "metadata": {},
   "outputs": [
    {
     "name": "stdout",
     "output_type": "stream",
     "text": [
      "Memory usage of dataframe is 0.07 MB\n",
      "Memory usage after optimization is: 0.02 MB\n",
      "Decreased by 73.88%\n"
     ]
    },
    {
     "name": "stderr",
     "output_type": "stream",
     "text": [
      "C:\\Users\\johns\\Desktop\\probstats2\\EnergyPrediction-ASHRAE\\code\\utils.py:143: FutureWarning: Using .astype to convert from timezone-aware dtype to timezone-naive dtype is deprecated and will raise in a future version.  Use obj.tz_localize(None) or obj.tz_convert('UTC').tz_localize(None) instead\n",
      "  weather_train['timestamp'] = pd.to_datetime(weather_train['timestamp'], infer_datetime_format = True, utc = True).astype('datetime64[ns]')\n"
     ]
    },
    {
     "name": "stdout",
     "output_type": "stream",
     "text": [
      "Memory usage of dataframe is 9.60 MB\n",
      "Memory usage after optimization is: 3.07 MB\n",
      "Decreased by 68.05%\n",
      "Memory usage of dataframe is 19.04 MB\n",
      "Memory usage after optimization is: 5.13 MB\n",
      "Decreased by 73.04%\n"
     ]
    },
    {
     "name": "stderr",
     "output_type": "stream",
     "text": [
      "C:\\Users\\johns\\Desktop\\probstats2\\EnergyPrediction-ASHRAE\\code\\utils.py:151: FutureWarning: Using .astype to convert from timezone-aware dtype to timezone-naive dtype is deprecated and will raise in a future version.  Use obj.tz_localize(None) or obj.tz_convert('UTC').tz_localize(None) instead\n",
      "  train['timestamp'] = pd.to_datetime(train['timestamp'], infer_datetime_format = True, utc = True).astype('datetime64[ns]')\n"
     ]
    },
    {
     "name": "stdout",
     "output_type": "stream",
     "text": [
      "Memory usage of dataframe is 616.95 MB\n",
      "Memory usage after optimization is: 289.19 MB\n",
      "Decreased by 53.12%\n",
      "Memory usage of dataframe is 1272.51 MB\n",
      "Memory usage after optimization is: 358.53 MB\n",
      "Decreased by 71.82%\n"
     ]
    },
    {
     "name": "stderr",
     "output_type": "stream",
     "text": [
      "C:\\Users\\johns\\Desktop\\probstats2\\EnergyPrediction-ASHRAE\\code\\utils.py:166: SettingWithCopyWarning: \n",
      "A value is trying to be set on a copy of a slice from a DataFrame.\n",
      "Try using .loc[row_indexer,col_indexer] = value instead\n",
      "\n",
      "See the caveats in the documentation: https://pandas.pydata.org/pandas-docs/stable/user_guide/indexing.html#returning-a-view-versus-a-copy\n",
      "  train[(train['site_id'] == 0) & (train['meter'] == 0)]['meter_reading'] = 0.2931 * train[(train['site_id'] == 0) & (train['meter'] == 0)]['meter_reading']\n"
     ]
    }
   ],
   "source": [
    "data_dict = utils.load_data('ashrae-energy-prediction')"
   ]
  },
  {
   "cell_type": "code",
   "execution_count": 4,
   "id": "4aea63a0",
   "metadata": {},
   "outputs": [],
   "source": [
    "# Add weather features \n",
    "weather_features = ['cloud_coverage', 'dew_temperature', 'air_temperature', \n",
    "                    'sea_level_pressure', 'wind_direction', 'wind_speed', 'precip_depth_1_hr',]\n",
    "\n",
    "hourly_by_site = data_dict[\"X_train\"].groupby(['hour', 'month', 'site_id'])[weather_features].mean().reset_index()\n",
    "\n",
    "data_dict[\"X_train\"] = data_dict[\"X_train\"].merge(\n",
    "    hourly_by_site, \n",
    "    on=['hour', 'month', 'site_id'], \n",
    "    how='left', \n",
    "    suffixes=(None, '_hourly_by_site')\n",
    ")\n",
    "\n",
    "del hourly_by_site\n",
    "\n",
    "for feature in weather_features:\n",
    "    # Fill in NA values from weather with hourly by site columns \n",
    "    data_dict[\"X_train\"][feature].fillna(\n",
    "        data_dict[\"X_train\"][feature + \"_hourly_by_site\"],\n",
    "        inplace=True\n",
    "    )\n",
    "    \n",
    "    # Fill in the rest with the median \n",
    "    data_dict[\"X_train\"][feature].fillna(\n",
    "        data_dict[\"X_train\"][feature].median(),\n",
    "        inplace=True\n",
    "    )\n",
    "    \n",
    "    data_dict[\"X_train\"][feature + \"_diff_hourly_from_mean\"] = data_dict[\"X_train\"][feature] - \\\n",
    "        data_dict[\"X_train\"][feature + \"_hourly_by_site\"]\n",
    "    \n",
    "data_dict[\"X_train\"] = data_dict[\"X_train\"].drop(columns = [feat + \"_hourly_by_site\" for feat in weather_features])"
   ]
  },
  {
   "cell_type": "code",
   "execution_count": 5,
   "id": "a1ad44fd",
   "metadata": {},
   "outputs": [],
   "source": [
    "# Fill in NA with median values for floor count and year_built\n",
    "for feature in ['year_built', 'floor_count']:\n",
    "    data_dict[\"X_train\"][feature].fillna(\n",
    "        data_dict[\"X_train\"][feature].median(), \n",
    "        inplace=True\n",
    "    )"
   ]
  },
  {
   "cell_type": "code",
   "execution_count": 6,
   "id": "557c72c9",
   "metadata": {},
   "outputs": [
    {
     "data": {
      "text/plain": [
       "dict_keys(['weather_test', 'X_train', 'X_test', 'y_train'])"
      ]
     },
     "execution_count": 6,
     "metadata": {},
     "output_type": "execute_result"
    }
   ],
   "source": [
    "data_dict.keys()"
   ]
  },
  {
   "cell_type": "markdown",
   "id": "865a4187",
   "metadata": {},
   "source": [
    "## Examine Differences (Non-Parametric)\n",
    "Using Bonferonni's Correction"
   ]
  },
  {
   "cell_type": "markdown",
   "id": "92d409d8",
   "metadata": {},
   "source": [
    "### Milestone 2. \n",
    "- Show difference in sites across meter readings \n",
    "- get average meter reading per day per site \n",
    "- conduct a (non-parametric ANOVA) KS OR pairs (mann-whitney) to show that they are diff \n",
    "- train a model per site id (with rudimentary hyperparameter tuning) \n",
    "- John sites 0-7, Sharad sites 8-15 \n",
    "\n",
    "### Milestone 3. Determine, per site, which primary uses are similar (if they have only a few buildings), which are diff\n",
    "- for a given primary use, if diff, identify \"clusters\" of buildings that are similar "
   ]
  },
  {
   "cell_type": "code",
   "execution_count": 7,
   "id": "86eb2613",
   "metadata": {},
   "outputs": [],
   "source": [
    "features = ['year_built', 'floor_count', 'air_temperature',\n",
    "       'cloud_coverage', 'dew_temperature', 'precip_depth_1_hr',\n",
    "       'sea_level_pressure', 'wind_direction', 'wind_speed',\n",
    "       'air_temperature_mean_lag7', 'air_temperature_max_lag7',\n",
    "       'air_temperature_min_lag7', 'air_temperature_std_lag7',\n",
    "       'cloud_coverage_mean_lag7', 'cloud_coverage_max_lag7',\n",
    "       'cloud_coverage_min_lag7', 'cloud_coverage_std_lag7',\n",
    "       'dew_temperature_mean_lag7', 'dew_temperature_max_lag7',\n",
    "       'dew_temperature_min_lag7', 'dew_temperature_std_lag7',\n",
    "       'precip_depth_1_hr_mean_lag7', 'precip_depth_1_hr_max_lag7',\n",
    "       'precip_depth_1_hr_min_lag7', 'precip_depth_1_hr_std_lag7',\n",
    "       'sea_level_pressure_mean_lag7', 'sea_level_pressure_max_lag7',\n",
    "       'sea_level_pressure_min_lag7', 'sea_level_pressure_std_lag7',\n",
    "       'wind_direction_mean_lag7', 'wind_direction_max_lag7',\n",
    "       'wind_direction_min_lag7', 'wind_direction_std_lag7',\n",
    "       'wind_speed_mean_lag7', 'wind_speed_max_lag7', 'wind_speed_min_lag7',\n",
    "       'wind_speed_std_lag7', 'log_square_feet', 'weekday', 'hour', 'day',\n",
    "       'weekend', 'month', 'primary_use_enc']"
   ]
  },
  {
   "cell_type": "code",
   "execution_count": 8,
   "id": "0aff449b",
   "metadata": {},
   "outputs": [],
   "source": [
    "def run_optuna_search_cv(\n",
    "    site: int,\n",
    "    meter: int,\n",
    "    X_train: pd.DataFrame,\n",
    "    y_train: pd.DataFrame,\n",
    "    features: list,\n",
    "    n_trials: int = 50,\n",
    "    \n",
    "):\n",
    "    \"\"\"\n",
    "    Runs Optuna Search for LGBMRegressor\n",
    "    \"\"\"\n",
    "    SITE_FILTER = X_train[\"site_id\"] == site\n",
    "    METER_FILTER = X_train[\"meter\"] == meter\n",
    "\n",
    "    splitter_gen = utils.get_stratified_splitter(X_train[SITE_FILTER&METER_FILTER], y_train[SITE_FILTER&METER_FILTER])\n",
    "\n",
    "    X, y = X_train.loc[SITE_FILTER&METER_FILTER, features], y_train[SITE_FILTER&METER_FILTER]\n",
    "\n",
    "    regressor = LGBMRegressor()\n",
    "\n",
    "    param_distributions = {\n",
    "        \"max_depth\": optuna.distributions.IntDistribution(-1, len(data_dict['X_train'].columns)),\n",
    "        \"num_leaves\": optuna.distributions.IntDistribution(5, 50),\n",
    "        \"learning_rate\": optuna.distributions.FloatDistribution(1e-7, 1, log=True),\n",
    "        \"n_estimators\": optuna.distributions.IntDistribution(1, 300),\n",
    "        \"reg_alpha\": optuna.distributions.FloatDistribution(1e-7, 1e7, log=True),\n",
    "        \"reg_lambda\": optuna.distributions.FloatDistribution(1e-7, 1e7, log=True),            \n",
    "    }\n",
    "\n",
    "    \"\"\"\n",
    "    Parameters not searched over: \n",
    "    subsample_for_bin: int = 200000,\n",
    "    min_split_gain: float = 0.0,\n",
    "    min_child_weight: float = 0.001,\n",
    "    min_child_samples: int = 20,\n",
    "    subsample: float = 1.0,\n",
    "    subsample_freq: int = 0,\n",
    "    colsample_bytree: float = 1.0,\n",
    "    random_state: Union[int, numpy.random.mtrand.RandomState, NoneType] = None,\n",
    "    n_jobs: int = -1,\n",
    "    \"\"\"\n",
    "    def rmse(estimator, X_test, y_test):\n",
    "        y_pred = estimator.predict(X_test)\n",
    "        return -1 * mean_squared_error(y_test, y_pred, squared=False)\n",
    "    \n",
    "    optuna_search = optuna.integration.OptunaSearchCV(\n",
    "        regressor, \n",
    "        param_distributions,\n",
    "        n_trials=n_trials,\n",
    "        cv = splitter_gen,\n",
    "        random_state=0, # IMPORTANT,\n",
    "        refit=True,\n",
    "        n_jobs=4,\n",
    "        scoring = rmse\n",
    "    )\n",
    "\n",
    "    optuna_search.fit(X, y)\n",
    "    y_pred = optuna_search.predict(X)\n",
    "    \n",
    "    return optuna_search"
   ]
  },
  {
   "cell_type": "code",
   "execution_count": null,
   "id": "d303350d",
   "metadata": {
    "scrolled": false
   },
   "outputs": [
    {
     "name": "stderr",
     "output_type": "stream",
     "text": [
      "C:\\Users\\johns\\AppData\\Local\\Temp\\ipykernel_20820\\3034517090.py:47: ExperimentalWarning: OptunaSearchCV is experimental (supported from v0.17.0). The interface can change in the future.\n",
      "  optuna_search = optuna.integration.OptunaSearchCV(\n",
      "C:\\Users\\johns\\anaconda3\\envs\\probstats\\lib\\site-packages\\sklearn\\model_selection\\_split.py:909: UserWarning: The least populated class in y has only 1 members, which is less than n_splits=4.\n",
      "  warnings.warn(\n",
      "\u001b[32m[I 2023-04-08 21:21:25,086]\u001b[0m A new study created in memory with name: no-name-686e1cc1-88b4-4365-a867-817965ec7da0\u001b[0m\n",
      "\u001b[32m[I 2023-04-08 21:22:19,375]\u001b[0m Trial 1 finished with value: -1.276540225182883 and parameters: {'max_depth': 37, 'num_leaves': 30, 'learning_rate': 0.001682655101511416, 'n_estimators': 62, 'reg_alpha': 0.022471871887640302, 'reg_lambda': 15.256161293072772}. Best is trial 1 with value: -1.276540225182883.\u001b[0m\n",
      "\u001b[32m[I 2023-04-08 21:22:34,268]\u001b[0m Trial 2 finished with value: -1.3358753400477117 and parameters: {'max_depth': 48, 'num_leaves': 23, 'learning_rate': 0.00015055454673966535, 'n_estimators': 115, 'reg_alpha': 0.0747076281269469, 'reg_lambda': 7810.964794262012}. Best is trial 1 with value: -1.276540225182883.\u001b[0m\n",
      "\u001b[32m[I 2023-04-08 21:23:16,757]\u001b[0m Trial 4 finished with value: -1.096720243325649 and parameters: {'max_depth': 30, 'num_leaves': 33, 'learning_rate': 0.36024912618963195, 'n_estimators': 124, 'reg_alpha': 281.32451231792516, 'reg_lambda': 0.23272354955640012}. Best is trial 4 with value: -1.096720243325649.\u001b[0m\n",
      "\u001b[32m[I 2023-04-08 21:23:20,878]\u001b[0m Trial 0 finished with value: -1.3298624903245915 and parameters: {'max_depth': 7, 'num_leaves': 14, 'learning_rate': 8.024471974458823e-05, 'n_estimators': 273, 'reg_alpha': 0.062393964267965965, 'reg_lambda': 2.787063471276036e-06}. Best is trial 4 with value: -1.096720243325649.\u001b[0m\n",
      "\u001b[32m[I 2023-04-08 21:23:45,765]\u001b[0m Trial 5 finished with value: -1.3458119181122932 and parameters: {'max_depth': 25, 'num_leaves': 21, 'learning_rate': 6.765399635544087e-07, 'n_estimators': 91, 'reg_alpha': 0.21669825447177962, 'reg_lambda': 9.77510126779491e-05}. Best is trial 4 with value: -1.096720243325649.\u001b[0m\n",
      "\u001b[32m[I 2023-04-08 21:23:55,515]\u001b[0m Trial 7 finished with value: -1.3458573309288266 and parameters: {'max_depth': 21, 'num_leaves': 35, 'learning_rate': 6.728069977375078e-07, 'n_estimators': 250, 'reg_alpha': 349841.95074101805, 'reg_lambda': 6099317.0455917455}. Best is trial 4 with value: -1.096720243325649.\u001b[0m\n",
      "\u001b[32m[I 2023-04-08 21:24:02,593]\u001b[0m Trial 6 finished with value: -1.3389398088681717 and parameters: {'max_depth': 34, 'num_leaves': 33, 'learning_rate': 0.0003177732136456628, 'n_estimators': 151, 'reg_alpha': 0.06357266979591256, 'reg_lambda': 373321.1295206664}. Best is trial 4 with value: -1.096720243325649.\u001b[0m\n",
      "\u001b[32m[I 2023-04-08 21:25:18,276]\u001b[0m Trial 3 finished with value: -1.3334702982796978 and parameters: {'max_depth': 7, 'num_leaves': 30, 'learning_rate': 6.185863894862085e-05, 'n_estimators': 270, 'reg_alpha': 0.0004759949317093365, 'reg_lambda': 7.873899835606593e-06}. Best is trial 4 with value: -1.096720243325649.\u001b[0m\n",
      "\u001b[32m[I 2023-04-08 21:25:19,991]\u001b[0m Trial 10 finished with value: -1.3358498494644993 and parameters: {'max_depth': 31, 'num_leaves': 13, 'learning_rate': 6.032228772242269e-05, 'n_estimators': 224, 'reg_alpha': 22.359505650948826, 'reg_lambda': 1.40274951038076e-06}. Best is trial 4 with value: -1.096720243325649.\u001b[0m\n",
      "\u001b[32m[I 2023-04-08 21:25:28,702]\u001b[0m Trial 11 finished with value: -1.1563919853244107 and parameters: {'max_depth': 56, 'num_leaves': 37, 'learning_rate': 0.14091941104699182, 'n_estimators': 3, 'reg_alpha': 0.0923536554047957, 'reg_lambda': 4263.016515286612}. Best is trial 4 with value: -1.096720243325649.\u001b[0m\n",
      "\u001b[32m[I 2023-04-08 21:25:46,393]\u001b[0m Trial 12 finished with value: -1.3458573309288266 and parameters: {'max_depth': 32, 'num_leaves': 29, 'learning_rate': 0.0002950422306574908, 'n_estimators': 247, 'reg_alpha': 5291574.963328494, 'reg_lambda': 69660.79070859762}. Best is trial 4 with value: -1.096720243325649.\u001b[0m\n",
      "\u001b[32m[I 2023-04-08 21:25:58,215]\u001b[0m Trial 14 finished with value: -1.1614071258700331 and parameters: {'max_depth': 57, 'num_leaves': 47, 'learning_rate': 0.9224442091045476, 'n_estimators': 5, 'reg_alpha': 319.64025843613615, 'reg_lambda': 1.5980607976507186}. Best is trial 4 with value: -1.096720243325649.\u001b[0m\n",
      "\u001b[32m[I 2023-04-08 21:26:07,865]\u001b[0m Trial 15 finished with value: -1.1191236938651052 and parameters: {'max_depth': 45, 'num_leaves': 42, 'learning_rate': 0.7384106190462986, 'n_estimators': 1, 'reg_alpha': 2.416120737437683e-07, 'reg_lambda': 154.7012498104169}. Best is trial 4 with value: -1.096720243325649.\u001b[0m\n",
      "\u001b[32m[I 2023-04-08 21:26:23,961]\u001b[0m Trial 9 finished with value: -1.3457139143072854 and parameters: {'max_depth': 37, 'num_leaves': 48, 'learning_rate': 1.2081464613834442e-06, 'n_estimators': 161, 'reg_alpha': 4.629280627338639, 'reg_lambda': 0.051165164115196914}. Best is trial 4 with value: -1.096720243325649.\u001b[0m\n",
      "\u001b[32m[I 2023-04-08 21:26:29,405]\u001b[0m Trial 8 finished with value: -1.3458201784667205 and parameters: {'max_depth': 50, 'num_leaves': 40, 'learning_rate': 2.669200971951909e-07, 'n_estimators': 193, 'reg_alpha': 3.987817988256485e-07, 'reg_lambda': 3.135485257330471}. Best is trial 4 with value: -1.096720243325649.\u001b[0m\n",
      "\u001b[32m[I 2023-04-08 21:27:03,409]\u001b[0m Trial 18 finished with value: -1.1693459709616292 and parameters: {'max_depth': 43, 'num_leaves': 42, 'learning_rate': 0.06292596828880173, 'n_estimators': 45, 'reg_alpha': 3.34565295836073e-07, 'reg_lambda': 0.02068076883327853}. Best is trial 4 with value: -1.096720243325649.\u001b[0m\n",
      "\u001b[32m[I 2023-04-08 21:27:19,938]\u001b[0m Trial 13 finished with value: -1.2716095955144147 and parameters: {'max_depth': 17, 'num_leaves': 50, 'learning_rate': 0.6204595166530295, 'n_estimators': 181, 'reg_alpha': 3.780553910057156e-07, 'reg_lambda': 0.02270018715394687}. Best is trial 4 with value: -1.096720243325649.\u001b[0m\n",
      "\u001b[32m[I 2023-04-08 21:27:26,267]\u001b[0m Trial 19 finished with value: -1.260808885749285 and parameters: {'max_depth': 18, 'num_leaves': 5, 'learning_rate': 0.9985795840150444, 'n_estimators': 99, 'reg_alpha': 3.3066444539581854e-05, 'reg_lambda': 182.39144305899205}. Best is trial 4 with value: -1.096720243325649.\u001b[0m\n",
      "\u001b[32m[I 2023-04-08 21:27:50,155]\u001b[0m Trial 21 finished with value: -1.0176997792624884 and parameters: {'max_depth': 43, 'num_leaves': 42, 'learning_rate': 0.038918923626819375, 'n_estimators': 43, 'reg_alpha': 1867.177989289552, 'reg_lambda': 198.92996052843682}. Best is trial 21 with value: -1.0176997792624884.\u001b[0m\n",
      "\u001b[32m[I 2023-04-08 21:28:02,748]\u001b[0m Trial 17 finished with value: -1.1231871600286494 and parameters: {'max_depth': 45, 'num_leaves': 41, 'learning_rate': 0.09873910318847758, 'n_estimators': 203, 'reg_alpha': 1.869754720697709e-06, 'reg_lambda': 244.11936652165173}. Best is trial 21 with value: -1.0176997792624884.\u001b[0m\n",
      "\u001b[32m[I 2023-04-08 21:28:04,979]\u001b[0m Trial 16 finished with value: -1.195357602447758 and parameters: {'max_depth': 47, 'num_leaves': 45, 'learning_rate': 0.07121404821577684, 'n_estimators': 181, 'reg_alpha': 1.2736517201396235e-07, 'reg_lambda': 0.03607615724151178}. Best is trial 21 with value: -1.0176997792624884.\u001b[0m\n",
      "\u001b[32m[I 2023-04-08 21:28:10,781]\u001b[0m Trial 22 finished with value: -1.0551876934373121 and parameters: {'max_depth': 40, 'num_leaves': 23, 'learning_rate': 0.02328326020337374, 'n_estimators': 48, 'reg_alpha': 2644.7941704904683, 'reg_lambda': 0.0007383623159208071}. Best is trial 21 with value: -1.0176997792624884.\u001b[0m\n",
      "\u001b[32m[I 2023-04-08 21:28:21,151]\u001b[0m Trial 20 finished with value: -0.9824659112542964 and parameters: {'max_depth': -1, 'num_leaves': 43, 'learning_rate': 0.0601608715473842, 'n_estimators': 105, 'reg_alpha': 1054.380784167071, 'reg_lambda': 81.54048170781097}. Best is trial 20 with value: -0.9824659112542964.\u001b[0m\n",
      "\u001b[32m[I 2023-04-08 21:28:36,767]\u001b[0m Trial 25 finished with value: -1.0804481225954876 and parameters: {'max_depth': 40, 'num_leaves': 23, 'learning_rate': 0.015490328599772101, 'n_estimators': 52, 'reg_alpha': 2510.7218155144074, 'reg_lambda': 0.0006245430762181217}. Best is trial 20 with value: -0.9824659112542964.\u001b[0m\n"
     ]
    },
    {
     "name": "stderr",
     "output_type": "stream",
     "text": [
      "\u001b[32m[I 2023-04-08 21:28:41,197]\u001b[0m Trial 24 finished with value: -1.0448992229225278 and parameters: {'max_depth': 39, 'num_leaves': 38, 'learning_rate': 0.01753627729648665, 'n_estimators': 54, 'reg_alpha': 1247.4853674947476, 'reg_lambda': 38.147560129350076}. Best is trial 20 with value: -0.9824659112542964.\u001b[0m\n",
      "\u001b[32m[I 2023-04-08 21:28:46,906]\u001b[0m Trial 26 finished with value: -1.0893646336346472 and parameters: {'max_depth': 40, 'num_leaves': 24, 'learning_rate': 0.016373127058998585, 'n_estimators': 48, 'reg_alpha': 5202.797748318908, 'reg_lambda': 0.0015582621695057952}. Best is trial 20 with value: -0.9824659112542964.\u001b[0m\n",
      "\u001b[32m[I 2023-04-08 21:29:04,728]\u001b[0m Trial 27 finished with value: -1.175169733133315 and parameters: {'max_depth': 25, 'num_leaves': 18, 'learning_rate': 0.010110871493314017, 'n_estimators': 72, 'reg_alpha': 27296.676622100593, 'reg_lambda': 1.1093139750116602e-07}. Best is trial 20 with value: -0.9824659112542964.\u001b[0m\n",
      "\u001b[32m[I 2023-04-08 21:29:05,580]\u001b[0m Trial 23 finished with value: -1.01473462889464 and parameters: {'max_depth': 24, 'num_leaves': 22, 'learning_rate': 0.013301156719609832, 'n_estimators': 122, 'reg_alpha': 1834.754197913557, 'reg_lambda': 0.0007903798140797896}. Best is trial 20 with value: -0.9824659112542964.\u001b[0m\n",
      "\u001b[32m[I 2023-04-08 21:29:07,651]\u001b[0m Trial 29 finished with value: -1.3323255942661159 and parameters: {'max_depth': 0, 'num_leaves': 39, 'learning_rate': 0.0058070277425355905, 'n_estimators': 78, 'reg_alpha': 144950.9480504948, 'reg_lambda': 20.86917313339445}. Best is trial 20 with value: -0.9824659112542964.\u001b[0m\n",
      "\u001b[32m[I 2023-04-08 21:29:12,560]\u001b[0m Trial 28 finished with value: -1.2060804545811794 and parameters: {'max_depth': -1, 'num_leaves': 37, 'learning_rate': 0.00771178648188826, 'n_estimators': 89, 'reg_alpha': 51563.788905112226, 'reg_lambda': 19.684734212778842}. Best is trial 20 with value: -0.9824659112542964.\u001b[0m\n",
      "\u001b[32m[I 2023-04-08 21:29:38,251]\u001b[0m Trial 30 finished with value: -1.0980946793517785 and parameters: {'max_depth': 2, 'num_leaves': 37, 'learning_rate': 0.006857923689814786, 'n_estimators': 130, 'reg_alpha': 48.48319174265751, 'reg_lambda': 16.58415466280739}. Best is trial 20 with value: -0.9824659112542964.\u001b[0m\n",
      "\u001b[32m[I 2023-04-08 21:30:13,076]\u001b[0m Trial 34 finished with value: -1.0063887008955335 and parameters: {'max_depth': 12, 'num_leaves': 44, 'learning_rate': 0.22521293358215022, 'n_estimators': 29, 'reg_alpha': 196.36667688807478, 'reg_lambda': 633.2675257348361}. Best is trial 20 with value: -0.9824659112542964.\u001b[0m\n",
      "\u001b[32m[I 2023-04-08 21:30:13,644]\u001b[0m Trial 33 finished with value: -1.033653604093735 and parameters: {'max_depth': 11, 'num_leaves': 15, 'learning_rate': 0.19111117842945863, 'n_estimators': 130, 'reg_alpha': 63.34256350340209, 'reg_lambda': 0.25554060765667214}. Best is trial 20 with value: -0.9824659112542964.\u001b[0m\n",
      "\u001b[32m[I 2023-04-08 21:30:17,106]\u001b[0m Trial 32 finished with value: -1.1265823275956848 and parameters: {'max_depth': 11, 'num_leaves': 14, 'learning_rate': 0.0036162252756946865, 'n_estimators': 132, 'reg_alpha': 30.94337260991753, 'reg_lambda': 0.5235278751929303}. Best is trial 20 with value: -0.9824659112542964.\u001b[0m\n",
      "\u001b[32m[I 2023-04-08 21:30:37,888]\u001b[0m Trial 37 finished with value: -1.0643733909837707 and parameters: {'max_depth': 7, 'num_leaves': 45, 'learning_rate': 0.04154643009845275, 'n_estimators': 20, 'reg_alpha': 1.3172751211847373, 'reg_lambda': 1787.6109106067017}. Best is trial 20 with value: -0.9824659112542964.\u001b[0m\n",
      "\u001b[32m[I 2023-04-08 21:30:39,344]\u001b[0m Trial 35 finished with value: -0.9664913379641193 and parameters: {'max_depth': 11, 'num_leaves': 44, 'learning_rate': 0.21666890757014373, 'n_estimators': 22, 'reg_alpha': 101.93968107079235, 'reg_lambda': 1595.4960353361337}. Best is trial 35 with value: -0.9664913379641193.\u001b[0m\n",
      "\u001b[32m[I 2023-04-08 21:30:47,327]\u001b[0m Trial 36 finished with value: -1.0308170411877693 and parameters: {'max_depth': 13, 'num_leaves': 45, 'learning_rate': 0.052575610428264107, 'n_estimators': 33, 'reg_alpha': 1.1251311111963374, 'reg_lambda': 1668.1248450720227}. Best is trial 35 with value: -0.9664913379641193.\u001b[0m\n",
      "\u001b[32m[I 2023-04-08 21:31:02,902]\u001b[0m Trial 38 finished with value: -0.9922065616088023 and parameters: {'max_depth': 12, 'num_leaves': 27, 'learning_rate': 0.2685790262771222, 'n_estimators': 29, 'reg_alpha': 325.80512771903346, 'reg_lambda': 447.7510830364938}. Best is trial 35 with value: -0.9664913379641193.\u001b[0m\n",
      "\u001b[32m[I 2023-04-08 21:31:15,280]\u001b[0m Trial 31 finished with value: -1.1527431547386402 and parameters: {'max_depth': -1, 'num_leaves': 45, 'learning_rate': 0.004175368325202655, 'n_estimators': 134, 'reg_alpha': 40.05401971630633, 'reg_lambda': 0.6845644450666644}. Best is trial 35 with value: -0.9664913379641193.\u001b[0m\n",
      "\u001b[32m[I 2023-04-08 21:31:19,321]\u001b[0m Trial 40 finished with value: -0.9812433880672031 and parameters: {'max_depth': 3, 'num_leaves': 27, 'learning_rate': 0.3009028985446965, 'n_estimators': 106, 'reg_alpha': 311.97175770376384, 'reg_lambda': 10572.337611777617}. Best is trial 35 with value: -0.9664913379641193.\u001b[0m\n",
      "\u001b[32m[I 2023-04-08 21:31:19,601]\u001b[0m Trial 41 finished with value: -0.9631907622088645 and parameters: {'max_depth': 4, 'num_leaves': 26, 'learning_rate': 0.28929958312736437, 'n_estimators': 23, 'reg_alpha': 230.63983568595387, 'reg_lambda': 22225.446006233462}. Best is trial 41 with value: -0.9631907622088645.\u001b[0m\n",
      "\u001b[32m[I 2023-04-08 21:31:33,571]\u001b[0m Trial 42 finished with value: -0.9929555916395313 and parameters: {'max_depth': 4, 'num_leaves': 26, 'learning_rate': 0.2645414436799686, 'n_estimators': 29, 'reg_alpha': 198.7465508666234, 'reg_lambda': 31099.77031342947}. Best is trial 41 with value: -0.9631907622088645.\u001b[0m\n",
      "\u001b[32m[I 2023-04-08 21:32:00,984]\u001b[0m Trial 44 finished with value: -0.9448456011901678 and parameters: {'max_depth': 5, 'num_leaves': 26, 'learning_rate': 0.317883441677951, 'n_estimators': 70, 'reg_alpha': 7.0413264043448285, 'reg_lambda': 21731.824756041602}. Best is trial 44 with value: -0.9448456011901678.\u001b[0m\n",
      "\u001b[32m[I 2023-04-08 21:32:01,891]\u001b[0m Trial 43 finished with value: -0.9488227737629775 and parameters: {'max_depth': 4, 'num_leaves': 31, 'learning_rate': 0.3408756117047486, 'n_estimators': 111, 'reg_alpha': 4.577423468154378, 'reg_lambda': 20377.603480253325}. Best is trial 44 with value: -0.9448456011901678.\u001b[0m\n",
      "\u001b[32m[I 2023-04-08 21:32:17,640]\u001b[0m Trial 39 finished with value: -0.9634526973269247 and parameters: {'max_depth': 11, 'num_leaves': 45, 'learning_rate': 0.19682085957953685, 'n_estimators': 103, 'reg_alpha': 351.367248508685, 'reg_lambda': 4489.286599786211}. Best is trial 44 with value: -0.9448456011901678.\u001b[0m\n",
      "\u001b[32m[I 2023-04-08 21:32:32,658]\u001b[0m Trial 45 finished with value: -0.9628420645318536 and parameters: {'max_depth': 5, 'num_leaves': 32, 'learning_rate': 0.3686201198127184, 'n_estimators': 104, 'reg_alpha': 5.213868810248991, 'reg_lambda': 6218.824949416663}. Best is trial 44 with value: -0.9448456011901678.\u001b[0m\n",
      "\u001b[32m[I 2023-04-08 21:32:38,313]\u001b[0m Trial 47 finished with value: -0.9620484483790648 and parameters: {'max_depth': 4, 'num_leaves': 34, 'learning_rate': 0.43327109356295185, 'n_estimators': 70, 'reg_alpha': 9.064638335073443, 'reg_lambda': 14535.586221269357}. Best is trial 44 with value: -0.9448456011901678.\u001b[0m\n",
      "\u001b[32m[I 2023-04-08 21:32:43,736]\u001b[0m Trial 46 finished with value: -0.9632142500049545 and parameters: {'max_depth': 5, 'num_leaves': 31, 'learning_rate': 0.4070150295566626, 'n_estimators': 67, 'reg_alpha': 10.715008182645189, 'reg_lambda': 18599.37069606979}. Best is trial 44 with value: -0.9448456011901678.\u001b[0m\n"
     ]
    }
   ],
   "source": [
    "# This fits sites 0-7\n",
    "N_TRIALS = 50\n",
    "models = defaultdict(dict)\n",
    "\n",
    "for site in range(8):\n",
    "    for meter in range(4):\n",
    "        \n",
    "        optuna_search = run_optuna_search_cv(site, meter, data_dict[\"X_train\"], data_dict[\"y_train\"], features, N_TRIALS)\n",
    "        \n",
    "        model_identifier = \"_\".join([str(site), str(meter)])\n",
    "        models[model_identifier] = optuna_search"
   ]
  },
  {
   "cell_type": "code",
   "execution_count": null,
   "id": "d4613bc7",
   "metadata": {},
   "outputs": [],
   "source": []
  }
 ],
 "metadata": {
  "kernelspec": {
   "display_name": "Python 3 (ipykernel)",
   "language": "python",
   "name": "python3"
  },
  "language_info": {
   "codemirror_mode": {
    "name": "ipython",
    "version": 3
   },
   "file_extension": ".py",
   "mimetype": "text/x-python",
   "name": "python",
   "nbconvert_exporter": "python",
   "pygments_lexer": "ipython3",
   "version": "3.10.9"
  }
 },
 "nbformat": 4,
 "nbformat_minor": 5
}
