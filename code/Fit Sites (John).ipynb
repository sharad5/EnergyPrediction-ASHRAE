{
 "cells": [
  {
   "cell_type": "code",
   "execution_count": 1,
   "id": "af59f84b",
   "metadata": {},
   "outputs": [],
   "source": [
    "import numpy as np\n",
    "import pandas as pd \n",
    "import os\n",
    "from pandas.tseries.holiday import USFederalHolidayCalendar\n",
    "\n",
    "import utils\n",
    "# from utils import load_data, get_train_val_split, get_stratified_splitter\n",
    "from sklearn.model_selection import StratifiedShuffleSplit, StratifiedGroupKFold, train_test_split, TimeSeriesSplit\n",
    "from sklearn.metrics import mean_squared_error, make_scorer\n",
    "\n",
    "from lightgbm import LGBMRegressor\n",
    "from scipy.stats import kstest, kruskal, mannwhitneyu\n",
    "from itertools import combinations\n",
    "from collections import defaultdict\n",
    "\n",
    "import optuna"
   ]
  },
  {
   "cell_type": "code",
   "execution_count": 2,
   "id": "3f663bf4",
   "metadata": {},
   "outputs": [
    {
     "data": {
      "text/plain": [
       "<module 'utils' from 'C:\\\\Users\\\\johns\\\\Desktop\\\\probstats2\\\\EnergyPrediction-ASHRAE\\\\code\\\\utils.py'>"
      ]
     },
     "execution_count": 2,
     "metadata": {},
     "output_type": "execute_result"
    }
   ],
   "source": [
    "import importlib\n",
    "importlib.reload(utils)"
   ]
  },
  {
   "cell_type": "code",
   "execution_count": 3,
   "id": "81c2569b",
   "metadata": {},
   "outputs": [
    {
     "name": "stdout",
     "output_type": "stream",
     "text": [
      "Memory usage of dataframe is 0.07 MB\n",
      "Memory usage after optimization is: 0.02 MB\n",
      "Decreased by 73.88%\n",
      "Memory usage of dataframe is 9.60 MB\n",
      "Memory usage after optimization is: 3.07 MB\n",
      "Decreased by 68.05%\n"
     ]
    },
    {
     "name": "stderr",
     "output_type": "stream",
     "text": [
      "C:\\Users\\johns\\Desktop\\probstats2\\EnergyPrediction-ASHRAE\\code\\utils.py:143: FutureWarning: Using .astype to convert from timezone-aware dtype to timezone-naive dtype is deprecated and will raise in a future version.  Use obj.tz_localize(None) or obj.tz_convert('UTC').tz_localize(None) instead\n",
      "  weather_train['timestamp'] = pd.to_datetime(weather_train['timestamp'], infer_datetime_format = True, utc = True).astype('datetime64[ns]')\n"
     ]
    },
    {
     "name": "stdout",
     "output_type": "stream",
     "text": [
      "Memory usage of dataframe is 19.04 MB\n",
      "Memory usage after optimization is: 5.13 MB\n",
      "Decreased by 73.04%\n"
     ]
    },
    {
     "name": "stderr",
     "output_type": "stream",
     "text": [
      "C:\\Users\\johns\\Desktop\\probstats2\\EnergyPrediction-ASHRAE\\code\\utils.py:151: FutureWarning: Using .astype to convert from timezone-aware dtype to timezone-naive dtype is deprecated and will raise in a future version.  Use obj.tz_localize(None) or obj.tz_convert('UTC').tz_localize(None) instead\n",
      "  train['timestamp'] = pd.to_datetime(train['timestamp'], infer_datetime_format = True, utc = True).astype('datetime64[ns]')\n"
     ]
    },
    {
     "name": "stdout",
     "output_type": "stream",
     "text": [
      "Memory usage of dataframe is 616.95 MB\n",
      "Memory usage after optimization is: 289.19 MB\n",
      "Decreased by 53.12%\n",
      "Memory usage of dataframe is 1272.51 MB\n",
      "Memory usage after optimization is: 358.53 MB\n",
      "Decreased by 71.82%\n"
     ]
    },
    {
     "name": "stderr",
     "output_type": "stream",
     "text": [
      "C:\\Users\\johns\\Desktop\\probstats2\\EnergyPrediction-ASHRAE\\code\\utils.py:166: SettingWithCopyWarning: \n",
      "A value is trying to be set on a copy of a slice from a DataFrame.\n",
      "Try using .loc[row_indexer,col_indexer] = value instead\n",
      "\n",
      "See the caveats in the documentation: https://pandas.pydata.org/pandas-docs/stable/user_guide/indexing.html#returning-a-view-versus-a-copy\n",
      "  train[(train['site_id'] == 0) & (train['meter'] == 0)]['meter_reading'] = 0.2931 * train[(train['site_id'] == 0) & (train['meter'] == 0)]['meter_reading']\n"
     ]
    }
   ],
   "source": [
    "data_dict = utils.load_data('ashrae-energy-prediction')"
   ]
  },
  {
   "cell_type": "code",
   "execution_count": 4,
   "id": "4aea63a0",
   "metadata": {},
   "outputs": [],
   "source": [
    "# Add weather features \n",
    "weather_features = ['cloud_coverage', 'dew_temperature', 'air_temperature', \n",
    "                    'sea_level_pressure', 'wind_direction', 'wind_speed', 'precip_depth_1_hr',]\n",
    "\n",
    "hourly_by_site = data_dict[\"X_train\"].groupby(['hour', 'month', 'site_id'])[weather_features].mean().reset_index()\n",
    "\n",
    "data_dict[\"X_train\"] = data_dict[\"X_train\"].merge(\n",
    "    hourly_by_site, \n",
    "    on=['hour', 'month', 'site_id'], \n",
    "    how='left', \n",
    "    suffixes=(None, '_hourly_by_site')\n",
    ")\n",
    "\n",
    "del hourly_by_site\n",
    "\n",
    "for feature in weather_features:\n",
    "    # Fill in NA values from weather with hourly by site columns \n",
    "    data_dict[\"X_train\"][feature].fillna(\n",
    "        data_dict[\"X_train\"][feature + \"_hourly_by_site\"],\n",
    "        inplace=True\n",
    "    )\n",
    "    \n",
    "    # Fill in the rest with the median \n",
    "    data_dict[\"X_train\"][feature].fillna(\n",
    "        data_dict[\"X_train\"][feature].median(),\n",
    "        inplace=True\n",
    "    )\n",
    "    \n",
    "    data_dict[\"X_train\"][feature + \"_diff_hourly_from_mean\"] = data_dict[\"X_train\"][feature] - \\\n",
    "        data_dict[\"X_train\"][feature + \"_hourly_by_site\"]\n",
    "    \n",
    "data_dict[\"X_train\"] = data_dict[\"X_train\"].drop(columns = [feat + \"_hourly_by_site\" for feat in weather_features])"
   ]
  },
  {
   "cell_type": "code",
   "execution_count": 5,
   "id": "a1ad44fd",
   "metadata": {},
   "outputs": [],
   "source": [
    "# Fill in NA with median values for floor count and year_built\n",
    "for feature in ['year_built', 'floor_count']:\n",
    "    data_dict[\"X_train\"][feature].fillna(\n",
    "        data_dict[\"X_train\"][feature].median(), \n",
    "        inplace=True\n",
    "    )"
   ]
  },
  {
   "cell_type": "code",
   "execution_count": 6,
   "id": "557c72c9",
   "metadata": {},
   "outputs": [
    {
     "data": {
      "text/plain": [
       "dict_keys(['weather_test', 'X_train', 'X_test', 'y_train'])"
      ]
     },
     "execution_count": 6,
     "metadata": {},
     "output_type": "execute_result"
    }
   ],
   "source": [
    "data_dict.keys()"
   ]
  },
  {
   "cell_type": "markdown",
   "id": "865a4187",
   "metadata": {},
   "source": [
    "## Examine Differences (Non-Parametric)\n",
    "Using Bonferonni's Correction"
   ]
  },
  {
   "cell_type": "markdown",
   "id": "92d409d8",
   "metadata": {},
   "source": [
    "### Milestone 2. \n",
    "- Show difference in sites across meter readings \n",
    "- get average meter reading per day per site \n",
    "- conduct a (non-parametric ANOVA) KS OR pairs (mann-whitney) to show that they are diff \n",
    "- train a model per site id (with rudimentary hyperparameter tuning) \n",
    "- John sites 0-7, Sharad sites 8-15 \n",
    "\n",
    "### Milestone 3. Determine, per site, which primary uses are similar (if they have only a few buildings), which are diff\n",
    "- for a given primary use, if diff, identify \"clusters\" of buildings that are similar "
   ]
  },
  {
   "cell_type": "code",
   "execution_count": 7,
   "id": "86eb2613",
   "metadata": {},
   "outputs": [],
   "source": [
    "features = ['year_built', 'floor_count', 'air_temperature',\n",
    "       'cloud_coverage', 'dew_temperature', 'precip_depth_1_hr',\n",
    "       'sea_level_pressure', 'wind_direction', 'wind_speed',\n",
    "       'air_temperature_mean_lag7', 'air_temperature_max_lag7',\n",
    "       'air_temperature_min_lag7', 'air_temperature_std_lag7',\n",
    "       'cloud_coverage_mean_lag7', 'cloud_coverage_max_lag7',\n",
    "       'cloud_coverage_min_lag7', 'cloud_coverage_std_lag7',\n",
    "       'dew_temperature_mean_lag7', 'dew_temperature_max_lag7',\n",
    "       'dew_temperature_min_lag7', 'dew_temperature_std_lag7',\n",
    "       'precip_depth_1_hr_mean_lag7', 'precip_depth_1_hr_max_lag7',\n",
    "       'precip_depth_1_hr_min_lag7', 'precip_depth_1_hr_std_lag7',\n",
    "       'sea_level_pressure_mean_lag7', 'sea_level_pressure_max_lag7',\n",
    "       'sea_level_pressure_min_lag7', 'sea_level_pressure_std_lag7',\n",
    "       'wind_direction_mean_lag7', 'wind_direction_max_lag7',\n",
    "       'wind_direction_min_lag7', 'wind_direction_std_lag7',\n",
    "       'wind_speed_mean_lag7', 'wind_speed_max_lag7', 'wind_speed_min_lag7',\n",
    "       'wind_speed_std_lag7', 'log_square_feet', 'weekday', 'hour', 'day',\n",
    "       'weekend', 'month', 'primary_use_enc']"
   ]
  },
  {
   "cell_type": "code",
   "execution_count": 13,
   "id": "0aff449b",
   "metadata": {},
   "outputs": [],
   "source": [
    "def run_optuna_search_cv(\n",
    "    site: int,\n",
    "    meter: int,\n",
    "    X_train: pd.DataFrame,\n",
    "    y_train: pd.DataFrame,\n",
    "    features: list,\n",
    "    n_trials: int = 50,\n",
    "    \n",
    "):\n",
    "    \"\"\"\n",
    "    Runs Optuna Search for LGBMRegressor\n",
    "    \"\"\"\n",
    "    SITE_FILTER = X_train[\"site_id\"] == site\n",
    "    METER_FILTER = X_train[\"meter\"] == meter\n",
    "\n",
    "    splitter_gen = utils.get_stratified_splitter(X_train[SITE_FILTER&METER_FILTER], y_train[SITE_FILTER&METER_FILTER])\n",
    "\n",
    "    X, y = X_train.loc[SITE_FILTER&METER_FILTER, features], y_train[SITE_FILTER&METER_FILTER]\n",
    "\n",
    "    regressor = LGBMRegressor()\n",
    "\n",
    "    param_distributions = {\n",
    "        \"max_depth\": optuna.distributions.IntDistribution(-1, len(data_dict['X_train'].columns)),\n",
    "        \"num_leaves\": optuna.distributions.IntDistribution(5, 50),\n",
    "        \"learning_rate\": optuna.distributions.FloatDistribution(1e-7, 1, log=True),\n",
    "        \"n_estimators\": optuna.distributions.IntDistribution(1, 200),\n",
    "        \"reg_alpha\": optuna.distributions.FloatDistribution(1e-7, 1e7, log=True),\n",
    "        \"reg_lambda\": optuna.distributions.FloatDistribution(1e-7, 1e7, log=True),            \n",
    "    }\n",
    "\n",
    "    \"\"\"\n",
    "    Parameters not searched over: \n",
    "    subsample_for_bin: int = 200000,\n",
    "    min_split_gain: float = 0.0,\n",
    "    min_child_weight: float = 0.001,\n",
    "    min_child_samples: int = 20,\n",
    "    subsample: float = 1.0,\n",
    "    subsample_freq: int = 0,\n",
    "    colsample_bytree: float = 1.0,\n",
    "    random_state: Union[int, numpy.random.mtrand.RandomState, NoneType] = None,\n",
    "    n_jobs: int = -1,\n",
    "    \"\"\"\n",
    "    def rmse(estimator, X_test, y_test):\n",
    "        y_pred = estimator.predict(X_test)\n",
    "        return -1 * mean_squared_error(y_test, y_pred, squared=False)\n",
    "    \n",
    "    optuna_search = optuna.integration.OptunaSearchCV(\n",
    "        regressor, \n",
    "        param_distributions,\n",
    "        n_trials=n_trials,\n",
    "        cv = splitter_gen,\n",
    "        random_state=0, # IMPORTANT,\n",
    "        refit=True,\n",
    "        n_jobs=4,\n",
    "        scoring = rmse\n",
    "    )\n",
    "\n",
    "    optuna_search.fit(X, y)\n",
    "    y_pred = optuna_search.predict(X)\n",
    "    \n",
    "    return optuna_search"
   ]
  },
  {
   "cell_type": "code",
   "execution_count": null,
   "id": "d303350d",
   "metadata": {
    "scrolled": false
   },
   "outputs": [
    {
     "name": "stderr",
     "output_type": "stream",
     "text": [
      "C:\\Users\\johns\\AppData\\Local\\Temp\\ipykernel_22708\\2519291347.py:47: ExperimentalWarning: OptunaSearchCV is experimental (supported from v0.17.0). The interface can change in the future.\n",
      "  optuna_search = optuna.integration.OptunaSearchCV(\n",
      "C:\\Users\\johns\\anaconda3\\envs\\probstats\\lib\\site-packages\\sklearn\\model_selection\\_split.py:909: UserWarning: The least populated class in y has only 1 members, which is less than n_splits=4.\n",
      "  warnings.warn(\n",
      "\u001b[32m[I 2023-04-08 21:04:52,834]\u001b[0m A new study created in memory with name: no-name-c5fdb620-fe1b-4a07-921d-416056c65e97\u001b[0m\n",
      "\u001b[32m[I 2023-04-08 21:05:05,273]\u001b[0m Trial 2 finished with value: -1.3458573309288266 and parameters: {'max_depth': 52, 'num_leaves': 19, 'learning_rate': 0.001776850158982427, 'n_estimators': 36, 'reg_alpha': 6570030.526136715, 'reg_lambda': 287948.47703468194}. Best is trial 2 with value: -1.3458573309288266.\u001b[0m\n",
      "\u001b[32m[I 2023-04-08 21:05:16,181]\u001b[0m Trial 0 finished with value: -1.3458573309288266 and parameters: {'max_depth': 38, 'num_leaves': 26, 'learning_rate': 0.008876000244927788, 'n_estimators': 134, 'reg_alpha': 602698.8935092227, 'reg_lambda': 3.7495629541246145e-07}. Best is trial 2 with value: -1.3458573309288266.\u001b[0m\n",
      "\u001b[32m[I 2023-04-08 21:05:17,865]\u001b[0m Trial 1 finished with value: -1.3458573309288266 and parameters: {'max_depth': 24, 'num_leaves': 20, 'learning_rate': 3.876100127731675e-06, 'n_estimators': 160, 'reg_alpha': 702846.1186411635, 'reg_lambda': 179.87070478306512}. Best is trial 2 with value: -1.3458573309288266.\u001b[0m\n",
      "\u001b[32m[I 2023-04-08 21:05:36,828]\u001b[0m Trial 3 finished with value: -1.3436923916814065 and parameters: {'max_depth': 20, 'num_leaves': 9, 'learning_rate': 0.0001267440478699071, 'n_estimators': 173, 'reg_alpha': 0.0035837636849310175, 'reg_lambda': 686157.6158246007}. Best is trial 3 with value: -1.3436923916814065.\u001b[0m\n",
      "\u001b[32m[I 2023-04-08 21:05:41,428]\u001b[0m Trial 4 finished with value: -1.2010098210614757 and parameters: {'max_depth': 17, 'num_leaves': 49, 'learning_rate': 0.07596892003112321, 'n_estimators': 157, 'reg_alpha': 10435.271945409086, 'reg_lambda': 3813440.20013531}. Best is trial 4 with value: -1.2010098210614757.\u001b[0m\n"
     ]
    }
   ],
   "source": [
    "# This fits sites 0-7\n",
    "N_TRIALS = 50\n",
    "models = defaultdict(dict)\n",
    "\n",
    "for site in range(8):\n",
    "    for meter in range(4):\n",
    "        \n",
    "        optuna_search = run_optuna_search_cv(site, meter, data_dict[\"X_train\"], data_dict[\"y_train\"], features, N_TRIALS)\n",
    "        \n",
    "        model_identifier = \"_\".join([str(site), str(meter)])\n",
    "        models[model_identifier] = optuna_search"
   ]
  },
  {
   "cell_type": "code",
   "execution_count": null,
   "id": "d4613bc7",
   "metadata": {},
   "outputs": [],
   "source": []
  }
 ],
 "metadata": {
  "kernelspec": {
   "display_name": "Python 3 (ipykernel)",
   "language": "python",
   "name": "python3"
  },
  "language_info": {
   "codemirror_mode": {
    "name": "ipython",
    "version": 3
   },
   "file_extension": ".py",
   "mimetype": "text/x-python",
   "name": "python",
   "nbconvert_exporter": "python",
   "pygments_lexer": "ipython3",
   "version": "3.10.9"
  }
 },
 "nbformat": 4,
 "nbformat_minor": 5
}
