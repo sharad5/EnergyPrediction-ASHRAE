{
   "cells": [
      {
         "cell_type": "code",
         "execution_count": 33,
         "id": "af59f84b",
         "metadata": {},
         "outputs": [],
         "source": [
            "import numpy as np\n",
            "import pandas as pd \n",
            "import os\n",
            "from pandas.tseries.holiday import USFederalHolidayCalendar\n",
            "\n",
            "import utils\n",
            "# from utils import load_data, get_train_val_split, get_stratified_splitter\n",
            "from sklearn.model_selection import StratifiedShuffleSplit, StratifiedGroupKFold, train_test_split, TimeSeriesSplit\n",
            "from sklearn.metrics import mean_squared_error, make_scorer\n",
            "\n",
            "from lightgbm import LGBMRegressor\n",
            "from scipy.stats import kstest, kruskal, mannwhitneyu\n",
            "from itertools import combinations\n",
            "from collections import defaultdict\n",
            "from tqdm import tqdm\n",
            "\n",
            "import optuna"
         ]
      },
      {
         "cell_type": "code",
         "execution_count": 2,
         "id": "3f663bf4",
         "metadata": {},
         "outputs": [
            {
               "data": {
                  "text/plain": [
                     "<module 'utils' from 'C:\\\\Users\\\\johns\\\\Desktop\\\\probstats2\\\\EnergyPrediction-ASHRAE\\\\code\\\\utils.py'>"
                  ]
               },
               "execution_count": 2,
               "metadata": {},
               "output_type": "execute_result"
            }
         ],
         "source": [
            "import importlib\n",
            "importlib.reload(utils)"
         ]
      },
      {
         "cell_type": "code",
         "execution_count": 3,
         "id": "81c2569b",
         "metadata": {},
         "outputs": [
            {
               "name": "stdout",
               "output_type": "stream",
               "text": [
                  "Memory usage of dataframe is 0.07 MB\n",
                  "Memory usage after optimization is: 0.02 MB\n",
                  "Decreased by 73.88%\n"
               ]
            },
            {
               "name": "stderr",
               "output_type": "stream",
               "text": [
                  "C:\\Users\\johns\\Desktop\\probstats2\\EnergyPrediction-ASHRAE\\code\\utils.py:143: FutureWarning: Using .astype to convert from timezone-aware dtype to timezone-naive dtype is deprecated and will raise in a future version.  Use obj.tz_localize(None) or obj.tz_convert('UTC').tz_localize(None) instead\n",
                  "  weather_train['timestamp'] = pd.to_datetime(weather_train['timestamp'], infer_datetime_format = True, utc = True).astype('datetime64[ns]')\n"
               ]
            },
            {
               "name": "stdout",
               "output_type": "stream",
               "text": [
                  "Memory usage of dataframe is 9.60 MB\n",
                  "Memory usage after optimization is: 3.07 MB\n",
                  "Decreased by 68.05%\n",
                  "Memory usage of dataframe is 19.04 MB\n",
                  "Memory usage after optimization is: 5.13 MB\n",
                  "Decreased by 73.04%\n"
               ]
            },
            {
               "name": "stderr",
               "output_type": "stream",
               "text": [
                  "C:\\Users\\johns\\Desktop\\probstats2\\EnergyPrediction-ASHRAE\\code\\utils.py:151: FutureWarning: Using .astype to convert from timezone-aware dtype to timezone-naive dtype is deprecated and will raise in a future version.  Use obj.tz_localize(None) or obj.tz_convert('UTC').tz_localize(None) instead\n",
                  "  train['timestamp'] = pd.to_datetime(train['timestamp'], infer_datetime_format = True, utc = True).astype('datetime64[ns]')\n"
               ]
            },
            {
               "name": "stdout",
               "output_type": "stream",
               "text": [
                  "Memory usage of dataframe is 616.95 MB\n",
                  "Memory usage after optimization is: 289.19 MB\n",
                  "Decreased by 53.12%\n",
                  "Memory usage of dataframe is 1272.51 MB\n",
                  "Memory usage after optimization is: 358.53 MB\n",
                  "Decreased by 71.82%\n"
               ]
            },
            {
               "name": "stderr",
               "output_type": "stream",
               "text": [
                  "C:\\Users\\johns\\Desktop\\probstats2\\EnergyPrediction-ASHRAE\\code\\utils.py:166: SettingWithCopyWarning: \n",
                  "A value is trying to be set on a copy of a slice from a DataFrame.\n",
                  "Try using .loc[row_indexer,col_indexer] = value instead\n",
                  "\n",
                  "See the caveats in the documentation: https://pandas.pydata.org/pandas-docs/stable/user_guide/indexing.html#returning-a-view-versus-a-copy\n",
                  "  train[(train['site_id'] == 0) & (train['meter'] == 0)]['meter_reading'] = 0.2931 * train[(train['site_id'] == 0) & (train['meter'] == 0)]['meter_reading']\n"
               ]
            }
         ],
         "source": [
            "data_dict = utils.load_data('ashrae-energy-prediction')"
         ]
      },
      {
         "cell_type": "code",
         "execution_count": 4,
         "id": "4aea63a0",
         "metadata": {},
         "outputs": [],
         "source": [
            "# Add weather features \n",
            "weather_features = ['cloud_coverage', 'dew_temperature', 'air_temperature', \n",
            "                    'sea_level_pressure', 'wind_direction', 'wind_speed', 'precip_depth_1_hr',]\n",
            "\n",
            "hourly_by_site = data_dict[\"X_train\"].groupby(['hour', 'month', 'site_id'])[weather_features].mean().reset_index()\n",
            "\n",
            "data_dict[\"X_train\"] = data_dict[\"X_train\"].merge(\n",
            "    hourly_by_site, \n",
            "    on=['hour', 'month', 'site_id'], \n",
            "    how='left', \n",
            "    suffixes=(None, '_hourly_by_site')\n",
            ")\n",
            "\n",
            "del hourly_by_site\n",
            "\n",
            "for feature in weather_features:\n",
            "    # Fill in NA values from weather with hourly by site columns \n",
            "    data_dict[\"X_train\"][feature].fillna(\n",
            "        data_dict[\"X_train\"][feature + \"_hourly_by_site\"],\n",
            "        inplace=True\n",
            "    )\n",
            "    \n",
            "    # Fill in the rest with the median \n",
            "    data_dict[\"X_train\"][feature].fillna(\n",
            "        data_dict[\"X_train\"][feature].median(),\n",
            "        inplace=True\n",
            "    )\n",
            "    \n",
            "    data_dict[\"X_train\"][feature + \"_diff_hourly_from_mean\"] = data_dict[\"X_train\"][feature] - \\\n",
            "        data_dict[\"X_train\"][feature + \"_hourly_by_site\"]\n",
            "    \n",
            "data_dict[\"X_train\"] = data_dict[\"X_train\"].drop(columns = [feat + \"_hourly_by_site\" for feat in weather_features])"
         ]
      },
      {
         "cell_type": "code",
         "execution_count": 5,
         "id": "a1ad44fd",
         "metadata": {},
         "outputs": [],
         "source": [
            "# Fill in NA with median values for floor count and year_built\n",
            "for feature in ['year_built', 'floor_count']:\n",
            "    data_dict[\"X_train\"][feature].fillna(\n",
            "        data_dict[\"X_train\"][feature].median(), \n",
            "        inplace=True\n",
            "    )"
         ]
      },
      {
         "cell_type": "code",
         "execution_count": 6,
         "id": "557c72c9",
         "metadata": {},
         "outputs": [
            {
               "data": {
                  "text/plain": [
                     "dict_keys(['weather_test', 'X_train', 'X_test', 'y_train'])"
                  ]
               },
               "execution_count": 6,
               "metadata": {},
               "output_type": "execute_result"
            }
         ],
         "source": [
            "data_dict.keys()"
         ]
      },
      {
         "cell_type": "markdown",
         "id": "865a4187",
         "metadata": {},
         "source": [
            "## Examine Differences (Non-Parametric)\n",
            "Using Bonferonni's Correction"
         ]
      },
      {
         "cell_type": "markdown",
         "id": "92d409d8",
         "metadata": {},
         "source": [
            "### Milestone 2. \n",
            "- Show difference in sites across meter readings \n",
            "- get average meter reading per day per site \n",
            "- conduct a (non-parametric ANOVA) KS OR pairs (mann-whitney) to show that they are diff \n",
            "- train a model per site id (with rudimentary hyperparameter tuning) \n",
            "- John sites 0-7, Sharad sites 8-15 \n",
            "\n",
            "### Milestone 3. Determine, per site, which primary uses are similar (if they have only a few buildings), which are diff\n",
            "- for a given primary use, if diff, identify \"clusters\" of buildings that are similar "
         ]
      },
      {
         "cell_type": "code",
         "execution_count": 7,
         "id": "86eb2613",
         "metadata": {},
         "outputs": [],
         "source": [
            "features = ['year_built', 'floor_count', 'air_temperature',\n",
            "       'cloud_coverage', 'dew_temperature', 'precip_depth_1_hr',\n",
            "       'sea_level_pressure', 'wind_direction', 'wind_speed',\n",
            "       'air_temperature_mean_lag7', 'air_temperature_max_lag7',\n",
            "       'air_temperature_min_lag7', 'air_temperature_std_lag7',\n",
            "       'cloud_coverage_mean_lag7', 'cloud_coverage_max_lag7',\n",
            "       'cloud_coverage_min_lag7', 'cloud_coverage_std_lag7',\n",
            "       'dew_temperature_mean_lag7', 'dew_temperature_max_lag7',\n",
            "       'dew_temperature_min_lag7', 'dew_temperature_std_lag7',\n",
            "       'precip_depth_1_hr_mean_lag7', 'precip_depth_1_hr_max_lag7',\n",
            "       'precip_depth_1_hr_min_lag7', 'precip_depth_1_hr_std_lag7',\n",
            "       'sea_level_pressure_mean_lag7', 'sea_level_pressure_max_lag7',\n",
            "       'sea_level_pressure_min_lag7', 'sea_level_pressure_std_lag7',\n",
            "       'wind_direction_mean_lag7', 'wind_direction_max_lag7',\n",
            "       'wind_direction_min_lag7', 'wind_direction_std_lag7',\n",
            "       'wind_speed_mean_lag7', 'wind_speed_max_lag7', 'wind_speed_min_lag7',\n",
            "       'wind_speed_std_lag7', 'log_square_feet', 'weekday', 'hour', 'day',\n",
            "       'weekend', 'month', 'primary_use_enc']"
         ]
      },
      {
         "cell_type": "code",
         "execution_count": 36,
         "id": "0aff449b",
         "metadata": {},
         "outputs": [],
         "source": [
            "def run_optuna_search_cv(\n",
            "    site: int,\n",
            "    meter: int,\n",
            "    X_train: pd.DataFrame,\n",
            "    y_train: pd.DataFrame,\n",
            "    features: list,\n",
            "    n_trials: int = 50,\n",
            "    \n",
            "):\n",
            "    \"\"\"\n",
            "    Runs Optuna Search for LGBMRegressor\n",
            "    \"\"\"\n",
            "    SITE_FILTER = X_train[\"site_id\"] == site\n",
            "    METER_FILTER = X_train[\"meter\"] == meter\n",
            "    \n",
            "    X, y = X_train.loc[SITE_FILTER&METER_FILTER, features], y_train[SITE_FILTER&METER_FILTER]\n",
            "    if X.shape[0] == 0:\n",
            "        return None\n",
            "\n",
            "    splitter_gen = utils.get_stratified_splitter(X_train[SITE_FILTER&METER_FILTER], y_train[SITE_FILTER&METER_FILTER])\n",
            "\n",
            "    \n",
            "\n",
            "    regressor = LGBMRegressor()\n",
            "\n",
            "    param_distributions = {\n",
            "        \"max_depth\": optuna.distributions.IntDistribution(-1, len(data_dict['X_train'].columns)),\n",
            "        \"num_leaves\": optuna.distributions.IntDistribution(5, 50),\n",
            "        \"learning_rate\": optuna.distributions.FloatDistribution(1e-7, 1, log=True),\n",
            "        \"n_estimators\": optuna.distributions.IntDistribution(1, 300),\n",
            "        \"reg_alpha\": optuna.distributions.FloatDistribution(1e-7, 1e7, log=True),\n",
            "        \"reg_lambda\": optuna.distributions.FloatDistribution(1e-7, 1e7, log=True),            \n",
            "    }\n",
            "\n",
            "    \"\"\"\n",
            "    Parameters not searched over: \n",
            "    subsample_for_bin: int = 200000,\n",
            "    min_split_gain: float = 0.0,\n",
            "    min_child_weight: float = 0.001,\n",
            "    min_child_samples: int = 20,\n",
            "    subsample: float = 1.0,\n",
            "    subsample_freq: int = 0,\n",
            "    colsample_bytree: float = 1.0,\n",
            "    random_state: Union[int, numpy.random.mtrand.RandomState, NoneType] = None,\n",
            "    n_jobs: int = -1,\n",
            "    \"\"\"\n",
            "    def rmse(estimator, X_test, y_test):\n",
            "        y_pred = estimator.predict(X_test)\n",
            "        return -1 * mean_squared_error(y_test, y_pred, squared=False)\n",
            "    \n",
            "    optuna_search = optuna.integration.OptunaSearchCV(\n",
            "        regressor, \n",
            "        param_distributions,\n",
            "        n_trials=n_trials,\n",
            "        cv = splitter_gen,\n",
            "        random_state=0, # IMPORTANT,\n",
            "        refit=True,\n",
            "        n_jobs=4,\n",
            "        scoring = rmse,\n",
            "        verbose=0\n",
            "    )\n",
            "\n",
            "    optuna_search.fit(X, y)\n",
            "    y_pred = optuna_search.predict(X)\n",
            "    \n",
            "    return optuna_search"
         ]
      },
      {
         "cell_type": "code",
         "execution_count": null,
         "id": "d303350d",
         "metadata": {
            "scrolled": true
         },
         "outputs": [
            {
               "name": "stderr",
               "output_type": "stream",
               "text": [
                  "  0%|                                                                              | 0/8 [00:00<?, ?it/s]/var/folders/6v/12r4qnjx54zgmfy66mv7j0rr0000gn/T/ipykernel_8044/659673755.py:51: ExperimentalWarning: OptunaSearchCV is experimental (supported from v0.17.0). The interface can change in the future.\n",
                  "  optuna_search = optuna.integration.OptunaSearchCV(\n",
                  "\u001b[32m[I 2023-04-08 21:30:29,167]\u001b[0m A new study created in memory with name: no-name-45ba9912-9235-4160-9952-0c3502d36374\u001b[0m\n",
                  "\u001b[32m[I 2023-04-08 21:30:32,702]\u001b[0m Trial 1 finished with value: -1.6440997451935304 and parameters: {'max_depth': 7, 'num_leaves': 12, 'learning_rate': 1.072279428083805e-05, 'n_estimators': 8, 'reg_alpha': 1.0420196495538015e-07, 'reg_lambda': 0.3159849934970688}. Best is trial 1 with value: -1.6440997451935304.\u001b[0m\n",
                  "\u001b[32m[I 2023-04-08 21:30:38,560]\u001b[0m Trial 0 finished with value: -1.6441514307483276 and parameters: {'max_depth': 22, 'num_leaves': 10, 'learning_rate': 7.632402473104205e-07, 'n_estimators': 196, 'reg_alpha': 778194.4896699354, 'reg_lambda': 1.9035019966313074}. Best is trial 1 with value: -1.6440997451935304.\u001b[0m\n",
                  "\u001b[32m[I 2023-04-08 21:30:43,365]\u001b[0m Trial 3 finished with value: -1.554511943409628 and parameters: {'max_depth': 41, 'num_leaves': 12, 'learning_rate': 0.0009086467503470516, 'n_estimators': 152, 'reg_alpha': 23517.538643242715, 'reg_lambda': 1.4288913774982196e-07}. Best is trial 3 with value: -1.554511943409628.\u001b[0m\n",
                  "\u001b[32m[I 2023-04-08 21:30:53,555]\u001b[0m Trial 6 finished with value: -1.4034852970288956 and parameters: {'max_depth': 3, 'num_leaves': 42, 'learning_rate': 0.1207480962035294, 'n_estimators': 127, 'reg_alpha': 0.8722788954681688, 'reg_lambda': 1.5915022624832572e-05}. Best is trial 6 with value: -1.4034852970288956.\u001b[0m\n",
                  "\u001b[32m[I 2023-04-08 21:30:58,304]\u001b[0m Trial 5 finished with value: -1.6366369417259499 and parameters: {'max_depth': 10, 'num_leaves': 7, 'learning_rate': 4.207930728138857e-05, 'n_estimators': 245, 'reg_alpha': 0.022272897457563945, 'reg_lambda': 926.7403267037353}. Best is trial 6 with value: -1.4034852970288956.\u001b[0m\n",
                  "\u001b[32m[I 2023-04-08 21:31:01,289]\u001b[0m Trial 8 finished with value: -1.6441564026819142 and parameters: {'max_depth': 29, 'num_leaves': 48, 'learning_rate': 8.583482138784642e-07, 'n_estimators': 18, 'reg_alpha': 0.022577117458199285, 'reg_lambda': 3347448.659429688}. Best is trial 6 with value: -1.4034852970288956.\u001b[0m\n",
                  "\u001b[32m[I 2023-04-08 21:31:03,878]\u001b[0m Trial 2 finished with value: -1.4808379992159135 and parameters: {'max_depth': 9, 'num_leaves': 35, 'learning_rate': 0.003509396735208542, 'n_estimators': 144, 'reg_alpha': 4.547134320432849e-06, 'reg_lambda': 0.02468276214308569}. Best is trial 6 with value: -1.4034852970288956.\u001b[0m\n",
                  "\u001b[32m[I 2023-04-08 21:31:07,518]\u001b[0m Trial 7 finished with value: -1.4207344650260172 and parameters: {'max_depth': 28, 'num_leaves': 45, 'learning_rate': 0.012741703884866052, 'n_estimators': 58, 'reg_alpha': 1007.2339569338146, 'reg_lambda': 0.0017483263517158432}. Best is trial 6 with value: -1.4034852970288956.\u001b[0m\n",
                  "\u001b[32m[I 2023-04-08 21:31:08,875]\u001b[0m Trial 9 finished with value: -1.6440598496094267 and parameters: {'max_depth': 2, 'num_leaves': 6, 'learning_rate': 1.1349139054719378e-06, 'n_estimators': 118, 'reg_alpha': 6.208109157932663, 'reg_lambda': 0.038992668543114985}. Best is trial 6 with value: -1.4034852970288956.\u001b[0m\n",
                  "\u001b[32m[I 2023-04-08 21:31:11,356]\u001b[0m Trial 10 finished with value: -1.6441505748592546 and parameters: {'max_depth': 6, 'num_leaves': 21, 'learning_rate': 1.421180092797542e-07, 'n_estimators': 55, 'reg_alpha': 11279.382707773055, 'reg_lambda': 1910.5906203703398}. Best is trial 6 with value: -1.4034852970288956.\u001b[0m\n",
                  "\u001b[32m[I 2023-04-08 21:31:13,597]\u001b[0m Trial 4 finished with value: -1.3869405759540854 and parameters: {'max_depth': 47, 'num_leaves': 18, 'learning_rate': 0.0028203305346674997, 'n_estimators': 281, 'reg_alpha': 2.5357358217865067e-07, 'reg_lambda': 4.5471461033121245e-05}. Best is trial 4 with value: -1.3869405759540854.\u001b[0m\n",
                  "\u001b[32m[I 2023-04-08 21:31:17,050]\u001b[0m Trial 12 finished with value: -1.644067417396925 and parameters: {'max_depth': 18, 'num_leaves': 40, 'learning_rate': 2.765902952534864e-06, 'n_estimators': 44, 'reg_alpha': 3857.9804046572617, 'reg_lambda': 0.0007784717013371038}. Best is trial 4 with value: -1.3869405759540854.\u001b[0m\n",
                  "\u001b[32m[I 2023-04-08 21:31:19,987]\u001b[0m Trial 11 finished with value: -1.524899582338644 and parameters: {'max_depth': 30, 'num_leaves': 18, 'learning_rate': 0.009114127687138828, 'n_estimators': 190, 'reg_alpha': 0.0057652731746950445, 'reg_lambda': 1078518.8001570029}. Best is trial 4 with value: -1.3869405759540854.\u001b[0m\n",
                  "\u001b[32m[I 2023-04-08 21:31:45,921]\u001b[0m Trial 15 finished with value: -1.5841189930201136 and parameters: {'max_depth': 57, 'num_leaves': 26, 'learning_rate': 0.47661956929238536, 'n_estimators': 276, 'reg_alpha': 0.00010221082724657304, 'reg_lambda': 5.002109576048821e-07}. Best is trial 4 with value: -1.3869405759540854.\u001b[0m\n",
                  "\u001b[32m[I 2023-04-08 21:31:46,382]\u001b[0m Trial 14 finished with value: -1.6042949237732198 and parameters: {'max_depth': 56, 'num_leaves': 30, 'learning_rate': 0.5747742381231644, 'n_estimators': 278, 'reg_alpha': 4.9872267909003975e-05, 'reg_lambda': 3.3687560264792248e-06}. Best is trial 4 with value: -1.3869405759540854.\u001b[0m\n",
                  "\u001b[32m[I 2023-04-08 21:31:53,099]\u001b[0m Trial 16 finished with value: -1.5927662016057518 and parameters: {'max_depth': 41, 'num_leaves': 29, 'learning_rate': 0.3251924683597995, 'n_estimators': 294, 'reg_alpha': 5.143442648221325e-05, 'reg_lambda': 1.510749289526575e-06}. Best is trial 4 with value: -1.3869405759540854.\u001b[0m\n",
                  "\u001b[32m[I 2023-04-08 21:31:54,036]\u001b[0m Trial 13 finished with value: -1.5703796532840393 and parameters: {'max_depth': 53, 'num_leaves': 36, 'learning_rate': 0.12309509285738636, 'n_estimators': 288, 'reg_alpha': 12.536802578769061, 'reg_lambda': 1.3112070767651581e-07}. Best is trial 4 with value: -1.3869405759540854.\u001b[0m\n",
                  "\u001b[32m[I 2023-04-08 21:32:03,732]\u001b[0m Trial 18 finished with value: -1.5433870923440471 and parameters: {'max_depth': 43, 'num_leaves': 34, 'learning_rate': 0.04930015536251766, 'n_estimators': 95, 'reg_alpha': 6.523632524895783, 'reg_lambda': 2.3060762919295422e-05}. Best is trial 4 with value: -1.3869405759540854.\u001b[0m\n",
                  "\u001b[32m[I 2023-04-08 21:32:07,886]\u001b[0m Trial 20 finished with value: -1.4777010251612845 and parameters: {'max_depth': 46, 'num_leaves': 20, 'learning_rate': 0.044174648764874785, 'n_estimators': 98, 'reg_alpha': 0.6625565533147821, 'reg_lambda': 4.471807096245419e-05}. Best is trial 4 with value: -1.3869405759540854.\u001b[0m\n"
               ]
            }
         ],
         "source": [
            "# This fits sites 0-7\n",
            "N_TRIALS = 50\n",
            "models = defaultdict(dict)\n",
            "\n",
            "for site in tqdm(range(8,16)):\n",
            "    for meter in range(4):\n",
            "        \n",
            "        optuna_search = run_optuna_search_cv(site, meter, data_dict[\"X_train\"], data_dict[\"y_train\"], features, N_TRIALS)\n",
            "        \n",
            "        model_identifier = \"_\".join([str(site), str(meter)])\n",
            "        models[model_identifier] = optuna_search"
         ]
      },
      {
         "cell_type": "code",
         "execution_count": null,
         "id": "d4613bc7",
         "metadata": {},
         "outputs": [],
         "source": []
      }
   ],
   "metadata": {
      "kernelspec": {
         "display_name": "Python [conda env:conda-env] *",
         "language": "python",
         "name": "conda-env-conda-env-py"
      },
      "language_info": {
         "codemirror_mode": {
            "name": "ipython",
            "version": 3
         },
         "file_extension": ".py",
         "mimetype": "text/x-python",
         "name": "python",
         "nbconvert_exporter": "python",
         "pygments_lexer": "ipython3",
         "version": "3.10.5"
      }
   },
   "nbformat": 4,
   "nbformat_minor": 5
}