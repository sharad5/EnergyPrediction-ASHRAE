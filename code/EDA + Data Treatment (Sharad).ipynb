{
 "cells": [
  {
   "cell_type": "code",
   "execution_count": 1,
   "id": "3d52617a",
   "metadata": {},
   "outputs": [],
   "source": [
    "import os, gc\n",
    "import datetime\n",
    "\n",
    "import pandas as pd\n",
    "import numpy as np\n",
    "import matplotlib.pyplot as plt\n",
    "import seaborn as sns\n",
    "# !pip install category_encoders\n",
    "# from category_encoders import TargetEncoder\n",
    "\n",
    "from sklearn.manifold import TSNE\n",
    "from sklearn.preprocessing import LabelEncoder\n",
    "from sklearn.model_selection import StratifiedShuffleSplit, StratifiedGroupKFold, train_test_split, TimeSeriesSplit\n",
    "\n",
    "from sklearn.linear_model import Ridge, Lasso\n",
    "from sklearn.kernel_ridge import KernelRidge\n",
    "from sklearn.metrics import mean_squared_log_error, mean_squared_error"
   ]
  },
  {
   "cell_type": "markdown",
   "id": "92abc69a",
   "metadata": {},
   "source": [
    "#### Read Files"
   ]
  },
  {
   "cell_type": "code",
   "execution_count": null,
   "id": "88cdd421",
   "metadata": {},
   "outputs": [],
   "source": [
    "building = pd.read_csv('../data/building_metadata.csv')\n",
    "weather_train = pd.read_csv('../data/weather_train.csv')\n",
    "weather_test = pd.read_csv('../data/weather_test.csv')\n",
    "train = pd.read_csv('../data/train.csv')\n",
    "test = pd.read_csv('../data/test.csv')"
   ]
  },
  {
   "cell_type": "markdown",
   "id": "abb12e5d",
   "metadata": {},
   "source": [
    "#### Missing Data"
   ]
  },
  {
   "cell_type": "code",
   "execution_count": null,
   "id": "e3526192",
   "metadata": {},
   "outputs": [],
   "source": [
    "#Missing Data Percentage\n",
    "1 - train.count()/ len(train)"
   ]
  },
  {
   "cell_type": "code",
   "execution_count": null,
   "id": "cfa0bae3",
   "metadata": {
    "scrolled": true
   },
   "outputs": [],
   "source": [
    "#Missing Data Percentage\n",
    "1 - weather_train.count()/ len(weather_train)"
   ]
  },
  {
   "cell_type": "code",
   "execution_count": null,
   "id": "c0a72148",
   "metadata": {
    "scrolled": true
   },
   "outputs": [],
   "source": [
    "#Missing Data Percentage\n",
    "1 - building.count()/ len(building)"
   ]
  },
  {
   "cell_type": "markdown",
   "id": "0f6d9cf9",
   "metadata": {},
   "source": [
    "#### Helper Functions for Data Processing\n",
    "\n",
    "##### `optimize_df_mem_usage` - Reduce dataframe memory usage by using smaller datatypes\n",
    "##### `weather_data_parser` - Fill in the missing data values for weather dataframe"
   ]
  },
  {
   "cell_type": "code",
   "execution_count": null,
   "id": "5b556155",
   "metadata": {},
   "outputs": [],
   "source": [
    "from pandas.api.types import is_categorical_dtype\n",
    "from pandas.api.types import is_datetime64_any_dtype as is_datetime\n",
    "\n",
    "# Original code from https://www.kaggle.com/gemartin/load-data-reduce-memory-usage by @gemartin\n",
    "def optimize_df_mem_usage(data, use_float16=True):\n",
    "    start_mem = data.memory_usage().sum() / 1024**2\n",
    "    print('Memory usage of dataframe is {:.2f} MB'.format(start_mem))\n",
    "\n",
    "    for col in data.columns:\n",
    "        if is_datetime(data[col]) or is_categorical_dtype(data[col]):\n",
    "            continue\n",
    "        col_type = data[col].dtype\n",
    "        \n",
    "        if col_type in [np.dtype('<M8[ns]'), np.dtype('>M8[ns]'), np.dtype('datetime64')]:\n",
    "            continue\n",
    "        elif col_type != object:\n",
    "            c_min = data[col].min()\n",
    "            c_max = data[col].max()\n",
    "            if str(col_type)[:3] == 'int':\n",
    "                if c_min > np.iinfo(np.int8).min and c_max < np.iinfo(np.int8).max:\n",
    "                    data[col] = data[col].astype(np.int8)\n",
    "                elif c_min > np.iinfo(np.int16).min and c_max < np.iinfo(np.int16).max:\n",
    "                    data[col] = data[col].astype(np.int16)\n",
    "                elif c_min > np.iinfo(np.int32).min and c_max < np.iinfo(np.int32).max:\n",
    "                    data[col] = data[col].astype(np.int32)\n",
    "                elif c_min > np.iinfo(np.int64).min and c_max < np.iinfo(np.int64).max:\n",
    "                    data[col] = data[col].astype(np.int64)\n",
    "            else:\n",
    "                if use_float16 and c_min > np.finfo(np.float16).min and c_max < np.finfo(np.float16).max:\n",
    "                    data[col] = data[col].astype(np.float16)\n",
    "                elif c_min > np.finfo(np.float32).min and c_max < np.finfo(np.float32).max:\n",
    "                    data[col] = data[col].astype(np.float32)\n",
    "                else:\n",
    "                    data[col] = data[col].astype(np.float64)\n",
    "        else:\n",
    "            data[col] = data[col].astype('category')\n",
    "\n",
    "    end_mem = data.memory_usage().sum() / 1024**2\n",
    "    print('Memory usage after optimization is: {:.2f} MB'.format(end_mem))\n",
    "    print('Decreased by {:.2f}%'.format(\n",
    "        100 * (start_mem - end_mem) / start_mem))\n",
    "\n",
    "    return data"
   ]
  },
  {
   "cell_type": "code",
   "execution_count": null,
   "id": "5b2167f6",
   "metadata": {},
   "outputs": [],
   "source": [
    "def weather_data_parser(weather_data):\n",
    "    time_format = '%Y-%m-%d %H:%M:%S'\n",
    "    start_date = datetime.datetime.strptime(weather_data['timestamp'].min(), time_format)\n",
    "    end_date = datetime.datetime.strptime(weather_data['timestamp'].max(), time_format)\n",
    "    total_hours = int(((end_date - start_date).total_seconds() + 3600) / 3600)\n",
    "    hours_list = [(end_date - datetime.timedelta(hours=x)).strftime(time_format) for x in range(total_hours)]\n",
    "\n",
    "    for site_id in range(16):\n",
    "        site_hours = np.array(weather_data[weather_data['site_id'] == site_id]['timestamp'])\n",
    "        new_rows = pd.DataFrame(np.setdiff1d(hours_list, site_hours), columns=['timestamp'])\n",
    "        new_rows['site_id'] = site_id\n",
    "        weather_data = pd.concat([weather_data, new_rows], sort=True)\n",
    "        weather_data = weather_data.reset_index(drop=True)           \n",
    "\n",
    "    weather_data['datetime'] = pd.to_datetime(weather_data['timestamp'])\n",
    "    weather_data['day'] = weather_data['datetime'].dt.day\n",
    "    weather_data['week'] = weather_data['datetime'].dt.isocalendar().week\n",
    "    weather_data['month'] = weather_data['datetime'].dt.month\n",
    "\n",
    "    weather_data = weather_data.set_index(['site_id', 'day', 'month'])\n",
    "\n",
    "    air_temperature_filler = pd.DataFrame(weather_data.groupby(['site_id','day','month'])['air_temperature'].median(), columns=['air_temperature'])\n",
    "    weather_data.update(air_temperature_filler, overwrite=False)\n",
    "\n",
    "    cloud_coverage_filler = weather_data.groupby(['site_id', 'day', 'month'])['cloud_coverage'].median()\n",
    "    cloud_coverage_filler = pd.DataFrame(cloud_coverage_filler.fillna(method='ffill'), columns=['cloud_coverage'])\n",
    "\n",
    "    weather_data.update(cloud_coverage_filler, overwrite=False)\n",
    "\n",
    "    due_temperature_filler = pd.DataFrame(weather_data.groupby(['site_id','day','month'])['dew_temperature'].median(), columns=['dew_temperature'])\n",
    "    weather_data.update(due_temperature_filler, overwrite=False)\n",
    "\n",
    "    sea_level_filler = weather_data.groupby(['site_id','day','month'])['sea_level_pressure'].median()\n",
    "    sea_level_filler = pd.DataFrame(sea_level_filler.fillna(method='ffill'), columns=['sea_level_pressure'])\n",
    "\n",
    "    weather_data.update(sea_level_filler, overwrite=False)\n",
    "\n",
    "    wind_direction_filler =  pd.DataFrame(weather_data.groupby(['site_id','day','month'])['wind_direction'].median(), columns=['wind_direction'])\n",
    "    weather_data.update(wind_direction_filler, overwrite=False)\n",
    "\n",
    "    wind_speed_filler =  pd.DataFrame(weather_data.groupby(['site_id','day','month'])['wind_speed'].median(), columns=['wind_speed'])\n",
    "    weather_data.update(wind_speed_filler, overwrite=False)\n",
    "\n",
    "    precip_depth_filler = weather_data.groupby(['site_id','day','month'])['precip_depth_1_hr'].median()\n",
    "    precip_depth_filler = pd.DataFrame(precip_depth_filler.fillna(method='ffill'), columns=['precip_depth_1_hr'])\n",
    "\n",
    "    weather_data.update(precip_depth_filler, overwrite=False)\n",
    "\n",
    "    weather_data = weather_data.reset_index()\n",
    "    weather_data = weather_data.drop(['datetime','day','week','month'], axis=1)\n",
    "\n",
    "    return weather_data"
   ]
  },
  {
   "cell_type": "code",
   "execution_count": null,
   "id": "53988a6e",
   "metadata": {},
   "outputs": [],
   "source": [
    "# Pre-process the weather dataset\n",
    "weather_train = weather_data_parser(weather_train)"
   ]
  },
  {
   "cell_type": "code",
   "execution_count": null,
   "id": "d81b3886",
   "metadata": {},
   "outputs": [],
   "source": [
    "# Convert timestamp to datetime\n",
    "train[\"timestamp\"] = pd.to_datetime(train[\"timestamp\"])\n",
    "weather_train[\"timestamp\"] = pd.to_datetime(weather_train[\"timestamp\"])"
   ]
  },
  {
   "cell_type": "code",
   "execution_count": null,
   "id": "973be2dd",
   "metadata": {},
   "outputs": [],
   "source": [
    "# Optimize the dataframe memory usage\n",
    "train = optimize_df_mem_usage(train)\n",
    "weather_train = optimize_df_mem_usage(weather_train)\n",
    "building = optimize_df_mem_usage(building)"
   ]
  },
  {
   "cell_type": "markdown",
   "id": "2c0bcf40",
   "metadata": {},
   "source": [
    "#### Boxplot of the meter_readings for meter_type (to check for outliers)"
   ]
  },
  {
   "cell_type": "code",
   "execution_count": null,
   "id": "b588763c",
   "metadata": {},
   "outputs": [],
   "source": [
    "sns.boxplot(x='meter', y='meter_reading', data=train, showfliers=True);"
   ]
  },
  {
   "cell_type": "markdown",
   "id": "74068fea",
   "metadata": {},
   "source": [
    "### For meter 0, there's a significant number of zeros. Investigating the number of zeros for meter 0"
   ]
  },
  {
   "cell_type": "code",
   "execution_count": null,
   "id": "e2399993",
   "metadata": {},
   "outputs": [],
   "source": [
    "temp = train.copy()\n",
    "temp[\"Month\"] = temp[\"timestamp\"].dt.month\n",
    "temp = temp[temp[\"meter\"]==0]\n",
    "temp[\"zero_meter_reading\"] = (temp[\"meter_reading\"] < 5).astype(int)\n",
    "temp = temp.groupby([\"building_id\",\"Month\"]).agg(sum_zero_counts = (\"zero_meter_reading\", \"sum\")).reset_index()\n",
    "\n",
    "temp = pd.pivot_table(temp, values=\"sum_zero_counts\", index=[\"building_id\"], columns=[\"Month\"], fill_value=0)\n",
    "plt.figure(figsize = (12,6))\n",
    "sns.heatmap(temp)\n",
    "plt.title(\"Number of zero meter readings for Meter 0\")\n",
    "\n",
    "del temp\n",
    "gc.collect()"
   ]
  },
  {
   "cell_type": "markdown",
   "id": "81331e0f",
   "metadata": {},
   "source": [
    "#### We see that there are outliers in Meter 0, where buildings (building_id <= 104) have predominantly 0 meter readings for months <= 5. \n",
    "\n",
    "We will Remove Buildings that have 0 meter_reading"
   ]
  },
  {
   "cell_type": "code",
   "execution_count": null,
   "id": "616c5108",
   "metadata": {},
   "outputs": [],
   "source": [
    "train = train.query('not (building_id <= 104 & meter == 0 & timestamp <= \"2016-05-20\")')\n"
   ]
  },
  {
   "cell_type": "markdown",
   "id": "6bc29499",
   "metadata": {},
   "source": [
    "### Investigating the Outliers for Meter 2"
   ]
  },
  {
   "cell_type": "code",
   "execution_count": null,
   "id": "55f483c0",
   "metadata": {},
   "outputs": [],
   "source": [
    "temp = train.copy()\n",
    "temp[\"Month\"] = temp[\"timestamp\"].dt.month\n",
    "temp = temp[temp[\"meter\"]==2]\n",
    "# temp[\"zero_meter_reading\"] = (temp[\"meter_reading\"] < 5).astype(int)\n",
    "temp = temp.groupby([\"building_id\",\"Month\"]).agg(max_readings = (\"meter_reading\", \"max\")).reset_index()\n",
    "\n",
    "temp = pd.pivot_table(temp, values=\"max_readings\", index=[\"building_id\"], columns=[\"Month\"], fill_value=0)\n",
    "plt.figure(figsize = (12,6))\n",
    "sns.heatmap(temp)\n",
    "plt.title(\"Max meter readings for Meter 2\")\n",
    "\n",
    "del temp\n",
    "gc.collect()"
   ]
  },
  {
   "cell_type": "markdown",
   "id": "15c956d7",
   "metadata": {},
   "source": [
    "#### Clearly, the values for building 1099 are extremely high. Let's plot the mean meter reading for meter 2 (with building_id 1099)"
   ]
  },
  {
   "cell_type": "code",
   "execution_count": null,
   "id": "4282890c",
   "metadata": {},
   "outputs": [],
   "source": [
    "fig, axes = plt.subplots(1,1,figsize=(12, 6), dpi=100)\n",
    "\n",
    "train[train['meter'] == 2][['timestamp', 'meter_reading']].set_index('timestamp').resample('H').mean()['meter_reading'].plot(ax=axes, label='By hour', alpha=0.8).set_ylabel('Meter reading', fontsize=14);\n",
    "train[train['meter'] == 2][['timestamp', 'meter_reading']].set_index('timestamp').resample('D').mean()['meter_reading'].plot(ax=axes, label='By day', alpha=1).set_ylabel('Meter reading', fontsize=14);\n",
    "axes.set_title('Mean Meter reading by hour and day for meter: '+ str(i), fontsize=16);\n",
    "axes.legend();\n",
    "plt.tight_layout()"
   ]
  },
  {
   "cell_type": "markdown",
   "id": "28cfb625",
   "metadata": {},
   "source": [
    "#### There seems to be big spikes, which are most probably driven by building 1099. Removing this and checking the trend"
   ]
  },
  {
   "cell_type": "code",
   "execution_count": null,
   "id": "0aae78fa",
   "metadata": {},
   "outputs": [],
   "source": [
    "fig, axes = plt.subplots(1,1,figsize=(12, 6), dpi=100)\n",
    "\n",
    "train[(train['meter'] == 2)&(train['building_id']!=1099)][['timestamp', 'meter_reading']].set_index('timestamp').resample('H').mean()['meter_reading'].plot(ax=axes, label='By hour', alpha=0.8).set_ylabel('Meter reading', fontsize=14);\n",
    "train[(train['meter'] == 2)&(train[\"building_id\"]!=1099)][['timestamp', 'meter_reading']].set_index('timestamp').resample('D').mean()['meter_reading'].plot(ax=axes, label='By day', alpha=1).set_ylabel('Meter reading', fontsize=14);\n",
    "axes.set_title('Mean Meter reading by hour and day for meter: '+ str(i), fontsize=16);\n",
    "axes.legend();\n",
    "plt.tight_layout()"
   ]
  },
  {
   "cell_type": "markdown",
   "id": "477033bb",
   "metadata": {},
   "source": [
    "#### Hence, it is clear that building 1099 is an outlier. Removing it for the analysis."
   ]
  },
  {
   "cell_type": "code",
   "execution_count": null,
   "id": "4133b7d4",
   "metadata": {},
   "outputs": [],
   "source": [
    "#Removing the outlier\n",
    "train = train[train[\"building_id\"]!=1099]"
   ]
  },
  {
   "cell_type": "code",
   "execution_count": null,
   "id": "accbecd3",
   "metadata": {},
   "outputs": [],
   "source": [
    "#Merge the 3 datasets to create a common ADF\n",
    "train = train.merge(building, on='building_id', how='left')\n",
    "train = train.merge(weather_train, on=['site_id', 'timestamp'], how='left')"
   ]
  },
  {
   "cell_type": "markdown",
   "id": "13aa624e",
   "metadata": {},
   "source": [
    "### Data Visualization"
   ]
  },
  {
   "cell_type": "code",
   "execution_count": null,
   "id": "30ef2b4e",
   "metadata": {},
   "outputs": [],
   "source": [
    "fig, axes = plt.subplots(3,1,figsize=(14, 18), dpi=100)\n",
    "for i in range(3):\n",
    "    train[train['meter'] == i][['timestamp', 'meter_reading']].set_index('timestamp').resample('H').median()['meter_reading'].plot(ax=axes[i], label='By hour', alpha=0.8).set_ylabel('Meter reading', fontsize=14);\n",
    "    train[train['meter'] == i][['timestamp', 'meter_reading']].set_index('timestamp').resample('D').median()['meter_reading'].plot(ax=axes[i], label='By day', alpha=1).set_ylabel('Meter reading', fontsize=14);\n",
    "    axes[i].set_title('Median Meter reading by hour and day for meter: '+ str(i), fontsize=16);\n",
    "    axes[i].legend();\n",
    "5plt.tight_layout()"
   ]
  },
  {
   "cell_type": "code",
   "execution_count": null,
   "id": "218b1fc9",
   "metadata": {},
   "outputs": [],
   "source": [
    "sns.heatmap(train.corr())"
   ]
  },
  {
   "cell_type": "markdown",
   "id": "34cb3670",
   "metadata": {},
   "source": [
    "#### Check the boxplot of the meter readings for each meter (post outlier treatment)"
   ]
  },
  {
   "cell_type": "code",
   "execution_count": null,
   "id": "f4ac689f",
   "metadata": {},
   "outputs": [],
   "source": [
    "sns.boxplot(x='meter', y='meter_reading', data=train, showfliers=False);"
   ]
  },
  {
   "cell_type": "code",
   "execution_count": null,
   "id": "0bc1d141",
   "metadata": {},
   "outputs": [],
   "source": [
    "train.groupby('year_built')['meter_reading'].mean().plot().set_ylabel('Mean meter reading');"
   ]
  },
  {
   "cell_type": "code",
   "execution_count": null,
   "id": "119c5b3c",
   "metadata": {},
   "outputs": [],
   "source": [
    "tmp = train.groupby('year_built').agg(c=(\"building_id\", \"count\"))\n",
    "plt.bar(tmp.index, tmp['c'])"
   ]
  },
  {
   "cell_type": "markdown",
   "id": "af151b11",
   "metadata": {},
   "source": [
    "#### With the year_built increasing there's an increase in the variance if mean_meter_reading, but no major correlation"
   ]
  },
  {
   "cell_type": "code",
   "execution_count": null,
   "id": "3fa489af",
   "metadata": {},
   "outputs": [],
   "source": [
    "fig, axes = plt.subplots(3,1,figsize=(14, 18), dpi=100)\n",
    "for i in range(3):\n",
    "    train[train['meter'] == i][['meter_reading']].hist(ax=axes[i])\n",
    "    axes[i].set_title('Distribution of meter readings for meter: '+ str(i), fontsize=16);\n",
    "    axes[i].legend();\n",
    "plt.tight_layout()"
   ]
  },
  {
   "cell_type": "code",
   "execution_count": null,
   "id": "eb4319fb",
   "metadata": {},
   "outputs": [],
   "source": [
    "fig, axes = plt.subplots(3,1,figsize=(14, 18), dpi=100)\n",
    "for i in range(3):\n",
    "    train[train['meter'] == i][['meter_reading']].apply(np.log1p).hist(ax=axes[i])\n",
    "    axes[i].set_title('Distribution of log(meter readings) for meter: '+ str(i), fontsize=16);\n",
    "    axes[i].legend();\n",
    "plt.tight_layout()"
   ]
  },
  {
   "cell_type": "markdown",
   "id": "32fc408b",
   "metadata": {},
   "source": [
    "#### Taking log of the target variable meter_reading is a good way to get a somewhat gaussian distribution"
   ]
  },
  {
   "cell_type": "code",
   "execution_count": null,
   "id": "e9445e04",
   "metadata": {
    "scrolled": true
   },
   "outputs": [],
   "source": [
    "train[\"log_meter_reading\"] = np.log1p(train[\"meter_reading\"])"
   ]
  },
  {
   "cell_type": "markdown",
   "id": "a2062b88",
   "metadata": {},
   "source": [
    "#### Feature Engineering"
   ]
  },
  {
   "cell_type": "code",
   "execution_count": null,
   "id": "b88cd9af",
   "metadata": {},
   "outputs": [],
   "source": [
    "train['weekday'] = train['timestamp'].dt.weekday\n",
    "train['hour'] = train['timestamp'].dt.hour\n",
    "train['day'] = train['timestamp'].dt.day\n",
    "train['weekend'] = train[\"timestamp\"].dt.weekday.isin([5,6]).astype(int)\n",
    "train['month'] = train['timestamp'].dt.month\n",
    "train['log_square_feet'] =  np.log1p(train['square_feet'])"
   ]
  },
  {
   "cell_type": "code",
   "execution_count": null,
   "id": "955f24e4",
   "metadata": {},
   "outputs": [],
   "source": [
    "primary_use_enc = TargetEncoder(cols=[\"primary_use\"]).fit(train[\"primary_use\"], train[\"log_meter_reading\"])\n",
    "train[\"primary_use_enc\"] = primary_use_enc.transform(train[\"primary_use\"])"
   ]
  },
  {
   "cell_type": "code",
   "execution_count": null,
   "id": "6a6ea454",
   "metadata": {},
   "outputs": [],
   "source": [
    "features=['air_temperature', 'cloud_coverage', 'dew_temperature',\\\n",
    "          'precip_depth_1_hr', 'sea_level_pressure', 'wind_direction',\\\n",
    "          'wind_speed', 'weekday', 'hour', 'weekend',\\\n",
    "          'log_square_feet', 'primary_use']\n",
    "target='log_meter_reading'"
   ]
  },
  {
   "cell_type": "code",
   "execution_count": null,
   "id": "09071c1a",
   "metadata": {},
   "outputs": [],
   "source": [
    "X = train[features]\n",
    "y = train[target]"
   ]
  },
  {
   "cell_type": "code",
   "execution_count": null,
   "id": "f56e8954",
   "metadata": {},
   "outputs": [],
   "source": []
  },
  {
   "cell_type": "markdown",
   "id": "b7c97060",
   "metadata": {},
   "source": [
    "#### Ridge Regression"
   ]
  },
  {
   "cell_type": "code",
   "execution_count": null,
   "id": "1a802a4e",
   "metadata": {
    "scrolled": false
   },
   "outputs": [],
   "source": [
    "features=['air_temperature', 'cloud_coverage', 'dew_temperature',\\\n",
    "          'precip_depth_1_hr', 'sea_level_pressure', 'wind_direction',\\\n",
    "          'wind_speed', 'weekday', 'hour', 'weekend',\\\n",
    "          'log_square_feet', 'primary_use']\n",
    "target='log_meter_reading'\n",
    "\n",
    "meters = train[\"meter\"].sort_values().unique()\n",
    "for idx,meter in enumerate(meters):\n",
    "    X = train.loc[train[\"meter\"] == meter,features].reset_index(drop=True)\n",
    "    y = train.loc[train[\"meter\"] == meter,target].reset_index(drop=True)\n",
    "    tscv = TimeSeriesSplit()\n",
    "    train_rmlse_scores, test_rmlse_scores = [], []\n",
    "    for i, (train_index, test_index) in enumerate(tscv.split(X)):\n",
    "        X_train, X_test, y_train, y_test = X.loc[train_index,:].copy(), X.loc[test_index,:].copy(), y[train_index].copy(), y[test_index].copy()\n",
    "\n",
    "        primary_use_enc = TargetEncoder(cols=[\"primary_use\"]).fit(X_train[\"primary_use\"], y_train)\n",
    "        X_train[\"primary_use\"] = primary_use_enc.transform(X_train[\"primary_use\"])\n",
    "        X_test[\"primary_use\"] = primary_use_enc.transform(X_test[\"primary_use\"])\n",
    "\n",
    "        ridge_reg = Ridge(alpha=0.1)\n",
    "        ridge_reg.fit(X_train, y_train)\n",
    "        y_pred_train = ridge_reg.predict(X_train)\n",
    "        train_rmlse_scores.append(mean_squared_error(y_train, y_pred_train, squared=False))\n",
    "        y_pred_test = ridge_reg.predict(X_test)\n",
    "        test_rmlse_scores.append(mean_squared_error(y_test, y_pred_test, squared=False))\n",
    "        del X_train, X_test, y_train, y_test\n",
    "        gc.collect()\n",
    "    print(\"Meter %d: Avg Train RMSLE: %.4f, Avg Test RMSLE: %.4f\" % (meter, np.mean(train_rmlse_scores), np.mean(test_rmlse_scores)))"
   ]
  },
  {
   "cell_type": "code",
   "execution_count": null,
   "id": "5f1904c7",
   "metadata": {
    "scrolled": false
   },
   "outputs": [],
   "source": [
    "features=['air_temperature', 'cloud_coverage', 'dew_temperature',\\\n",
    "          'precip_depth_1_hr', 'sea_level_pressure', 'wind_direction',\\\n",
    "          'wind_speed', 'weekday', 'hour', 'weekend',\\\n",
    "          'log_square_feet', 'primary_use_enc', 'meter']\n",
    "\n",
    "X = train[features]\n",
    "y = train[target]\n",
    "\n",
    "plt.figure(figsize=(12, 12))\n",
    "for idx,meter in enumerate(meters):\n",
    "    X = train.loc[train[\"meter\"] == meter,features].reset_index(drop=True)\n",
    "    y = train.loc[train[\"meter\"] == meter,target].reset_index(drop=True)\n",
    "    ridge_reg = Ridge(alpha=1)\n",
    "    ridge_reg.fit(X, y)\n",
    "    y_pred_train = ridge_reg.predict(X)\n",
    "    plt.subplot(2,2,idx+1)\n",
    "    plt.hist(y_pred_train)\n",
    "    plt.title(\"Meter %d Predicted values\" % (meter))"
   ]
  },
  {
   "cell_type": "markdown",
   "id": "d985d8be",
   "metadata": {},
   "source": [
    "#### Lasso Regression"
   ]
  },
  {
   "cell_type": "code",
   "execution_count": null,
   "id": "baa9c75d",
   "metadata": {},
   "outputs": [],
   "source": [
    "features=['air_temperature', 'cloud_coverage', 'dew_temperature',\\\n",
    "          'precip_depth_1_hr', 'sea_level_pressure', 'wind_direction',\\\n",
    "          'wind_speed', 'weekday', 'hour', 'weekend',\\\n",
    "          'log_square_feet', 'primary_use']\n",
    "target='log_meter_reading'\n",
    "\n",
    "meters = train[\"meter\"].sort_values().unique()\n",
    "for idx,meter in enumerate(meters):\n",
    "    X = train.loc[train[\"meter\"] == meter,features].reset_index(drop=True)\n",
    "    y = train.loc[train[\"meter\"] == meter,target].reset_index(drop=True)\n",
    "    tscv = TimeSeriesSplit()\n",
    "    train_rmlse_scores, test_rmlse_scores = [], []\n",
    "    for i, (train_index, test_index) in enumerate(tscv.split(X)):\n",
    "        X_train, X_test, y_train, y_test = X.loc[train_index,:].copy(), X.loc[test_index,:].copy(), y[train_index].copy(), y[test_index].copy()\n",
    "\n",
    "        primary_use_enc = TargetEncoder(cols=[\"primary_use\"]).fit(X_train[\"primary_use\"], y_train)\n",
    "        X_train[\"primary_use\"] = primary_use_enc.transform(X_train[\"primary_use\"])\n",
    "        X_test[\"primary_use\"] = primary_use_enc.transform(X_test[\"primary_use\"])\n",
    "\n",
    "        lasso_reg = Lasso(alpha=0.01)\n",
    "        lasso_reg.fit(X_train, y_train)\n",
    "        y_pred_train = lasso_reg.predict(X_train)\n",
    "        train_rmlse_scores.append(mean_squared_error(y_train, y_pred_train, squared=False))\n",
    "        y_pred_test = lasso_reg.predict(X_test)\n",
    "        test_rmlse_scores.append(mean_squared_error(y_test, y_pred_test, squared=False))\n",
    "        del X_train, X_test, y_train, y_test\n",
    "        gc.collect()\n",
    "    print(\"Meter %d: Avg Train RMSLE: %.4f, Avg Test RMSLE: %.4f\" % (meter, np.mean(train_rmlse_scores), np.mean(test_rmlse_scores)))"
   ]
  },
  {
   "cell_type": "code",
   "execution_count": null,
   "id": "53b2ae69",
   "metadata": {},
   "outputs": [],
   "source": [
    "features=['air_temperature', 'cloud_coverage', 'dew_temperature',\\\n",
    "          'precip_depth_1_hr', 'sea_level_pressure', 'wind_direction',\\\n",
    "          'wind_speed', 'weekday', 'hour', 'weekend',\\\n",
    "          'log_square_feet', 'primary_use_enc', 'meter']\n",
    "\n",
    "X = train[features]\n",
    "y = train[target]\n",
    "\n",
    "plt.figure(figsize=(12, 12))\n",
    "for idx,meter in enumerate(meters):\n",
    "    X = train.loc[train[\"meter\"] == meter,features].reset_index(drop=True)\n",
    "    y = train.loc[train[\"meter\"] == meter,target].reset_index(drop=True)\n",
    "    lasso_reg = Lasso(alpha=0.1)\n",
    "    lasso_reg.fit(X, y)\n",
    "    y_pred_train = lasso_reg.predict(X)\n",
    "    plt.subplot(2,2,idx+1)\n",
    "    plt.hist(y_pred_train)\n",
    "    plt.title(\"Meter %d Predicted values\" % (meter))"
   ]
  },
  {
   "cell_type": "markdown",
   "id": "d0fd8c68",
   "metadata": {},
   "source": [
    "#### Kernel Ridge (Trial)"
   ]
  },
  {
   "cell_type": "code",
   "execution_count": null,
   "id": "24daffe8",
   "metadata": {},
   "outputs": [],
   "source": [
    "features=['air_temperature', 'cloud_coverage', 'dew_temperature',\\\n",
    "          'precip_depth_1_hr', 'sea_level_pressure', 'wind_direction',\\\n",
    "          'wind_speed', 'weekday', 'hour', 'weekend',\\\n",
    "          'log_square_feet', 'primary_use']\n",
    "target='log_meter_reading'\n",
    "\n",
    "meters = train[\"meter\"].sort_values().unique()\n",
    "for idx,meter in enumerate(meters):\n",
    "    X = train.loc[train[\"meter\"] == meter,features].reset_index(drop=True)\n",
    "    y = train.loc[train[\"meter\"] == meter,target].reset_index(drop=True)\n",
    "    tscv = TimeSeriesSplit()\n",
    "    train_rmlse_scores, test_rmlse_scores = [], []\n",
    "    for i, (train_index, test_index) in enumerate(tscv.split(X)):\n",
    "        X_train, X_test, y_train, y_test = X.loc[train_index,:].copy(), X.loc[test_index,:].copy(), y[train_index].copy(), y[test_index].copy()\n",
    "\n",
    "        primary_use_enc = TargetEncoder(cols=[\"primary_use\"]).fit(X_train[\"primary_use\"], y_train)\n",
    "        X_train[\"primary_use\"] = primary_use_enc.transform(X_train[\"primary_use\"])\n",
    "        X_test[\"primary_use\"] = primary_use_enc.transform(X_test[\"primary_use\"])\n",
    "\n",
    "        ridge_reg = KernelRidge(alpha=0.01, kernel='polynomial', degree=2)\n",
    "        ridge_reg.fit(X_train, y_train)\n",
    "        y_pred_train = ridge_reg.predict(X_train)\n",
    "        train_rmlse_scores.append(mean_squared_error(y_train, y_pred_train, squared=False))\n",
    "        y_pred_test = ridge_reg.predict(X_test)\n",
    "        test_rmlse_scores.append(mean_squared_error(y_test, y_pred_test, squared=False))\n",
    "        del X_train, X_test, y_train, y_test\n",
    "        gc.collect()\n",
    "    print(\"Meter %d: Avg Train RMSLE: %.4f, Avg Test RMSLE: %.4f\" % (meter, np.mean(train_rmlse_scores), np.mean(test_rmlse_scores)))"
   ]
  },
  {
   "cell_type": "code",
   "execution_count": null,
   "id": "a177ef0a",
   "metadata": {},
   "outputs": [],
   "source": [
    "# This is the Kaggle Test Set (We don't have target variable for this)\n",
    "# Same treatment with Testset \n",
    "# test[\"timestamp\"] = pd.to_datetime(test[\"timestamp\"])\n",
    "# test = reduce_mem_usage(test)\n",
    "# test = test[test[\"building_id\"]!=1099]\n",
    "\n",
    "# weather_test[\"timestamp\"] = pd.to_datetime(weather_test[\"timestamp\"])\n",
    "# weather_test = weather_data_parser(weather_test)\n",
    "# weather_test = reduce_mem_usage(weather_test)\n",
    "\n",
    "# test = test.merge(building, on='building_id', how='left')\n",
    "# test = test.merge(weather_test, on=['site_id', 'timestamp'], how='left')\n",
    "# test['weekday'] = test['timestamp'].dt.weekday\n",
    "# test['month'] = test['timestamp'].dt.month\n",
    "# test['hour'] = test['timestamp'].dt.hour\n",
    "# test['weekend'] = test[\"timestamp\"].dt.weekday.isin([5,6]).astype(int)\n",
    "# test['log_square_feet'] =  np.log1p(test['square_feet'])\n",
    "# test[\"primary_use_enc\"] = primary_use_enc.transform(test[\"primary_use\"])"
   ]
  },
  {
   "cell_type": "markdown",
   "id": "32d3d5a7",
   "metadata": {},
   "source": [
    "#### Train-Test Split (Randomized with Constraint - (building_id, meter) should non-overlapping across test/train )"
   ]
  },
  {
   "cell_type": "code",
   "execution_count": null,
   "id": "e642d5e8",
   "metadata": {},
   "outputs": [],
   "source": [
    "TEST_SIZE = 0.3\n",
    "building_meter_df = train.groupby([\"building_id\", \"meter\"])\\\n",
    "                        .agg(avg_meter_reading=(\"log_meter_reading\", np.mean))\\\n",
    "                        .drop(\"avg_meter_reading\", axis=1).reset_index()\n",
    "building_meter_train_df, building_meter_test_df = train_test_split(building_meter_df, test_size=TEST_SIZE, random_state=5)"
   ]
  },
  {
   "cell_type": "markdown",
   "id": "7b18f94c",
   "metadata": {},
   "source": [
    "#### Checking the distribution of meters"
   ]
  },
  {
   "cell_type": "code",
   "execution_count": null,
   "id": "a1db8c11",
   "metadata": {},
   "outputs": [],
   "source": [
    "plt.figure(figsize=(12,6))\n",
    "plt.subplot(1,3,1)\n",
    "plt.hist(building_meter_train_df[\"meter\"].sort_values().astype(str), density=True)\n",
    "plt.title(\"Training Set\")\n",
    "plt.xlabel(\"Meter\")\n",
    "plt.subplot(1,3,2)\n",
    "plt.hist(building_meter_test_df[\"meter\"].sort_values().astype(str), density=True)\n",
    "plt.title(\"Testing Set\")\n",
    "plt.xlabel(\"Meter\")\n",
    "plt.subplot(1,3,3)\n",
    "plt.hist(building_meter_df[\"meter\"].sort_values().astype(str), density=True)\n",
    "plt.title(\"Full Dataset\")\n",
    "plt.xlabel(\"Meter\")\n",
    "plt.tight_layout()"
   ]
  },
  {
   "cell_type": "markdown",
   "id": "b04482f6",
   "metadata": {},
   "source": [
    "#### Merging the train-test split to get the train-test dataset "
   ]
  },
  {
   "cell_type": "code",
   "execution_count": null,
   "id": "1bd6d69d",
   "metadata": {},
   "outputs": [],
   "source": [
    "train_df = train.merge(building_meter_train_df, on=[\"building_id\",\"meter\"], how=\"inner\")\n",
    "test_df = train.merge(building_meter_test_df, on=[\"building_id\",\"meter\"], how=\"inner\")"
   ]
  },
  {
   "cell_type": "code",
   "execution_count": null,
   "id": "4e0d40c1",
   "metadata": {},
   "outputs": [],
   "source": [
    "train_building_id = train_df[train_df[\"meter\"]==2][\"building_id\"].unique()\n",
    "test_building_id = test_df[test_df[\"meter\"]==2][\"building_id\"].unique()\n",
    "set(train_building_id).intersection(set(test_building_id))"
   ]
  },
  {
   "cell_type": "markdown",
   "id": "69c9e1d2",
   "metadata": {},
   "source": [
    "#### Checking the distribution of target variable across train and test dataset"
   ]
  },
  {
   "cell_type": "code",
   "execution_count": null,
   "id": "bfe272aa",
   "metadata": {},
   "outputs": [],
   "source": [
    "meter_id = 0\n",
    "\n",
    "plt.figure(figsize=(12,6))\n",
    "plt.subplot(1,3,1)\n",
    "plt.hist(train_df[train_df[\"meter\"]==meter_id][\"log_meter_reading\"], density=True)\n",
    "plt.title(\"Training Set\")\n",
    "plt.xlabel(\"Log Meter Reading\")\n",
    "plt.subplot(1,3,2)\n",
    "plt.hist(test_df[test_df[\"meter\"]==meter_id][\"log_meter_reading\"], density=True)\n",
    "plt.title(\"Testing Set\")\n",
    "plt.xlabel(\"Log Meter Reading\")\n",
    "plt.subplot(1,3,3)\n",
    "plt.hist(train[train[\"meter\"]==meter_id][\"log_meter_reading\"], density=True)\n",
    "plt.title(\"Full Dataset\")\n",
    "plt.xlabel(\"Log Meter Reading\")\n",
    "plt.tight_layout()"
   ]
  },
  {
   "cell_type": "code",
   "execution_count": null,
   "id": "823fb2eb",
   "metadata": {},
   "outputs": [],
   "source": [
    "meter_id = 1\n",
    "\n",
    "plt.figure(figsize=(12,6))\n",
    "plt.subplot(1,3,1)\n",
    "plt.hist(train_df[train_df[\"meter\"]==meter_id][\"log_meter_reading\"], density=True)\n",
    "plt.title(\"Training Set\")\n",
    "plt.xlabel(\"Log Meter Reading\")\n",
    "plt.subplot(1,3,2)\n",
    "plt.hist(test_df[test_df[\"meter\"]==meter_id][\"log_meter_reading\"], density=True)\n",
    "plt.title(\"Testing Set\")\n",
    "plt.xlabel(\"Log Meter Reading\")\n",
    "plt.subplot(1,3,3)\n",
    "plt.hist(train[train[\"meter\"]==meter_id][\"log_meter_reading\"], density=True)\n",
    "plt.title(\"Full Dataset\")\n",
    "plt.xlabel(\"Log Meter Reading\")\n",
    "plt.tight_layout()"
   ]
  },
  {
   "cell_type": "markdown",
   "id": "58c1a95d",
   "metadata": {},
   "source": [
    "#### Using SKLearn StratifiedGroupKFold"
   ]
  },
  {
   "cell_type": "code",
   "execution_count": null,
   "id": "4481ea91",
   "metadata": {},
   "outputs": [],
   "source": [
    "discretized_target = np.digitize(train[\"log_meter_reading\"], bins = np.linspace(0, train[\"log_meter_reading\"].max(), 30))\n"
   ]
  },
  {
   "cell_type": "code",
   "execution_count": null,
   "id": "0596fc61",
   "metadata": {},
   "outputs": [],
   "source": [
    "sgkf = StratifiedGroupKFold(n_splits=4)\n",
    "sgkf_gen = sgkf.split(train, discretized_target, train[\"building_id\"].astype(str) + \"_\" + train[\"meter\"].astype(str))"
   ]
  },
  {
   "cell_type": "code",
   "execution_count": null,
   "id": "53bb30a5",
   "metadata": {},
   "outputs": [],
   "source": [
    "train_index, test_index = next(sgkf_gen)"
   ]
  },
  {
   "cell_type": "code",
   "execution_count": null,
   "id": "e788ad45",
   "metadata": {},
   "outputs": [],
   "source": [
    "train_sk_df = train.loc[train_index,:]\n",
    "test_sk_df = train.loc[test_index,:]"
   ]
  },
  {
   "cell_type": "code",
   "execution_count": null,
   "id": "9a04d348",
   "metadata": {},
   "outputs": [],
   "source": [
    "train_building_id = train_sk_df[train_sk_df[\"meter\"]==2][\"building_id\"].unique()\n",
    "test_building_id = test_sk_df[test_sk_df[\"meter\"]==2][\"building_id\"].unique()\n",
    "set(train_building_id).intersection(set(test_building_id))"
   ]
  },
  {
   "cell_type": "code",
   "execution_count": null,
   "id": "52947f93",
   "metadata": {},
   "outputs": [],
   "source": [
    "meter_id = 1\n",
    "\n",
    "plt.figure(figsize=(12,6))\n",
    "plt.subplot(1,3,1)\n",
    "plt.hist(train_sk_df[train_sk_df[\"meter\"]==meter_id][\"log_meter_reading\"], density=True)\n",
    "plt.title(\"Training Set\")\n",
    "plt.xlabel(\"Log Meter Reading\")\n",
    "plt.subplot(1,3,2)\n",
    "plt.hist(test_sk_df[test_sk_df[\"meter\"]==meter_id][\"log_meter_reading\"], density=True)\n",
    "plt.title(\"Testing Set\")\n",
    "plt.xlabel(\"Log Meter Reading\")\n",
    "plt.subplot(1,3,3)\n",
    "plt.hist(train[train[\"meter\"]==meter_id][\"log_meter_reading\"], density=True)\n",
    "plt.title(\"Full Dataset\")\n",
    "plt.xlabel(\"Log Meter Reading\")\n",
    "plt.tight_layout()"
   ]
  },
  {
   "cell_type": "code",
   "execution_count": null,
   "id": "fa96f01d",
   "metadata": {},
   "outputs": [],
   "source": []
  }
 ],
 "metadata": {
  "kernelspec": {
   "display_name": "Python 3 (ipykernel)",
   "language": "python",
   "name": "python3"
  },
  "language_info": {
   "codemirror_mode": {
    "name": "ipython",
    "version": 3
   },
   "file_extension": ".py",
   "mimetype": "text/x-python",
   "name": "python",
   "nbconvert_exporter": "python",
   "pygments_lexer": "ipython3",
   "version": "3.10.9"
  }
 },
 "nbformat": 4,
 "nbformat_minor": 5
}
